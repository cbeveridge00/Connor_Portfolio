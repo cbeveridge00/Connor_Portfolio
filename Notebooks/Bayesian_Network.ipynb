{
  "cells": [
    {
      "cell_type": "markdown",
      "metadata": {
        "id": "i7kH9YPbNsFu"
      },
      "source": [
        "The human heart, on average, will beat approximately 100,000 times each day and circulate roughly 2,000 gallons of blood through an extensive network of vessels stretching over 60,000 miles within the body.\n",
        "\n",
        "Heart attack symptoms can manifest differently between genders, often being subtler in women. A female heart attack sufferer might experience a range of symptoms including a peculiar chest discomfort or pain, which could also spread to the arms, back, neck, jaw, or stomach, accompanied by difficulty breathing, nausea, and other varied signs. Men typically present more recognizable heart attack indicators such as pronounced chest pain or discomfort and stress, and similar to women, they might also suffer pain in several parts of the upper body along with symptoms like sweating and a sensation akin to indigestion.\n",
        "\n",
        "For an organ that's merely the size of a large fist and tips the scales at just 8 to 12 ounces, the heart's workload is indeed formidable."
      ]
    },
    {
      "cell_type": "markdown",
      "metadata": {
        "id": "w2tUI1kBbh0U"
      },
      "source": [
        "Orignal Data Source : [https://archive.ics.uci.edu/ml/datasets/Heart+Disease]\n",
        "\n",
        "** The dataset was created by: **\n",
        "1. Hungarian Institute of Cardiology. Budapest: Andras Janosi, M.D.\n",
        "2. University Hospital, Zurich, Switzerland: William Steinbrunn, M.D.\n",
        "3. University Hospital, Basel, Switzerland: Matthias Pfisterer, M.D.\n",
        "4. V.A. Medical Center, Long Beach and Cleveland Clinic Foundation: Robert Detrano, M.D., Ph.D.\n",
        "\n",
        "**The dataset contains the following features:**\n",
        "\n",
        "- **age**: The individual's age in years.\n",
        "- **sex**: The individual's sex (1 = male, 0 = female).\n",
        "- **cp**: Type of chest pain experienced.\n",
        "  - 0: Asymptomatic\n",
        "  - 1: Atypical angina\n",
        "  - 2: Non-anginal pain\n",
        "  - 3: Typical angina\n",
        "- **trestbps**: The individual's resting blood pressure (in mm Hg on admission to the hospital).\n",
        "- **chol**: The individual's cholesterol measurement in mg/dl.\n",
        "- **fbs**: The individual's fasting blood sugar (> 120 mg/dl, 1 = true; 0 = false).\n",
        "- **restecg**: Resting electrocardiographic results.\n",
        "  - 0: Probable or definite left ventricular hypertrophy by Estes' criteria.\n",
        "  - 1: Normal.\n",
        "  - 2: Having ST-T wave abnormality (T wave inversions and/or ST elevation or depression of > 0.05 mV).\n",
        "- **thalach**: The individual's maximum heart rate achieved.\n",
        "- **exang**: Exercise-induced angina (1 = yes; 0 = no).\n",
        "- **oldpeak**: ST depression induced by exercise relative to rest.\n",
        "- **slope**: The slope of the peak exercise ST segment.\n",
        "  - 0: Downsloping.\n",
        "  - 1: Flat.\n",
        "  - 2: Upsloping.\n",
        "- **ca**: The number of major vessels (0-3) colored by fluoroscopy.\n",
        "- **thal**: The status of thalassemia, a blood disorder.\n",
        "  - 0: NULL (dropped from the dataset).\n",
        "  - 1: Fixed defect (no blood flow in some part of the heart).\n",
        "  - 2: Normal blood flow.\n",
        "  - 3: Reversible defect (blood flow is observed but it is not normal).\n",
        "- **target**: Presence of heart disease (1 = no, 0 = yes).\n",
        "\n"
      ]
    },
    {
      "cell_type": "code",
      "execution_count": 1,
      "metadata": {
        "id": "CLfNlYUhNsFw",
        "outputId": "5b6ca6e1-1c41-4430-bca8-53401ef14bcb",
        "colab": {
          "base_uri": "https://localhost:8080/",
          "height": 1000
        }
      },
      "outputs": [
        {
          "output_type": "stream",
          "name": "stdout",
          "text": [
            "Requirement already satisfied: pgmpy in /usr/local/lib/python3.10/dist-packages (0.1.25)\n",
            "Requirement already satisfied: networkx in /usr/local/lib/python3.10/dist-packages (from pgmpy) (3.2.1)\n",
            "Requirement already satisfied: numpy in /usr/local/lib/python3.10/dist-packages (from pgmpy) (1.25.2)\n",
            "Requirement already satisfied: scipy in /usr/local/lib/python3.10/dist-packages (from pgmpy) (1.11.4)\n",
            "Requirement already satisfied: scikit-learn in /usr/local/lib/python3.10/dist-packages (from pgmpy) (1.2.2)\n",
            "Requirement already satisfied: pandas in /usr/local/lib/python3.10/dist-packages (from pgmpy) (1.5.3)\n",
            "Requirement already satisfied: pyparsing in /usr/local/lib/python3.10/dist-packages (from pgmpy) (3.1.2)\n",
            "Requirement already satisfied: torch in /usr/local/lib/python3.10/dist-packages (from pgmpy) (2.2.1+cu121)\n",
            "Requirement already satisfied: statsmodels in /usr/local/lib/python3.10/dist-packages (from pgmpy) (0.14.1)\n",
            "Requirement already satisfied: tqdm in /usr/local/lib/python3.10/dist-packages (from pgmpy) (4.66.2)\n",
            "Requirement already satisfied: joblib in /usr/local/lib/python3.10/dist-packages (from pgmpy) (1.3.2)\n",
            "Requirement already satisfied: opt-einsum in /usr/local/lib/python3.10/dist-packages (from pgmpy) (3.3.0)\n",
            "Requirement already satisfied: python-dateutil>=2.8.1 in /usr/local/lib/python3.10/dist-packages (from pandas->pgmpy) (2.8.2)\n",
            "Requirement already satisfied: pytz>=2020.1 in /usr/local/lib/python3.10/dist-packages (from pandas->pgmpy) (2023.4)\n",
            "Requirement already satisfied: threadpoolctl>=2.0.0 in /usr/local/lib/python3.10/dist-packages (from scikit-learn->pgmpy) (3.3.0)\n",
            "Requirement already satisfied: patsy>=0.5.4 in /usr/local/lib/python3.10/dist-packages (from statsmodels->pgmpy) (0.5.6)\n",
            "Requirement already satisfied: packaging>=21.3 in /usr/local/lib/python3.10/dist-packages (from statsmodels->pgmpy) (24.0)\n",
            "Requirement already satisfied: filelock in /usr/local/lib/python3.10/dist-packages (from torch->pgmpy) (3.13.1)\n",
            "Requirement already satisfied: typing-extensions>=4.8.0 in /usr/local/lib/python3.10/dist-packages (from torch->pgmpy) (4.10.0)\n",
            "Requirement already satisfied: sympy in /usr/local/lib/python3.10/dist-packages (from torch->pgmpy) (1.12)\n",
            "Requirement already satisfied: jinja2 in /usr/local/lib/python3.10/dist-packages (from torch->pgmpy) (3.1.3)\n",
            "Requirement already satisfied: fsspec in /usr/local/lib/python3.10/dist-packages (from torch->pgmpy) (2023.6.0)\n",
            "Requirement already satisfied: nvidia-cuda-nvrtc-cu12==12.1.105 in /usr/local/lib/python3.10/dist-packages (from torch->pgmpy) (12.1.105)\n",
            "Requirement already satisfied: nvidia-cuda-runtime-cu12==12.1.105 in /usr/local/lib/python3.10/dist-packages (from torch->pgmpy) (12.1.105)\n",
            "Requirement already satisfied: nvidia-cuda-cupti-cu12==12.1.105 in /usr/local/lib/python3.10/dist-packages (from torch->pgmpy) (12.1.105)\n",
            "Requirement already satisfied: nvidia-cudnn-cu12==8.9.2.26 in /usr/local/lib/python3.10/dist-packages (from torch->pgmpy) (8.9.2.26)\n",
            "Requirement already satisfied: nvidia-cublas-cu12==12.1.3.1 in /usr/local/lib/python3.10/dist-packages (from torch->pgmpy) (12.1.3.1)\n",
            "Requirement already satisfied: nvidia-cufft-cu12==11.0.2.54 in /usr/local/lib/python3.10/dist-packages (from torch->pgmpy) (11.0.2.54)\n",
            "Requirement already satisfied: nvidia-curand-cu12==10.3.2.106 in /usr/local/lib/python3.10/dist-packages (from torch->pgmpy) (10.3.2.106)\n",
            "Requirement already satisfied: nvidia-cusolver-cu12==11.4.5.107 in /usr/local/lib/python3.10/dist-packages (from torch->pgmpy) (11.4.5.107)\n",
            "Requirement already satisfied: nvidia-cusparse-cu12==12.1.0.106 in /usr/local/lib/python3.10/dist-packages (from torch->pgmpy) (12.1.0.106)\n",
            "Requirement already satisfied: nvidia-nccl-cu12==2.19.3 in /usr/local/lib/python3.10/dist-packages (from torch->pgmpy) (2.19.3)\n",
            "Requirement already satisfied: nvidia-nvtx-cu12==12.1.105 in /usr/local/lib/python3.10/dist-packages (from torch->pgmpy) (12.1.105)\n",
            "Requirement already satisfied: triton==2.2.0 in /usr/local/lib/python3.10/dist-packages (from torch->pgmpy) (2.2.0)\n",
            "Requirement already satisfied: nvidia-nvjitlink-cu12 in /usr/local/lib/python3.10/dist-packages (from nvidia-cusolver-cu12==11.4.5.107->torch->pgmpy) (12.4.99)\n",
            "Requirement already satisfied: six in /usr/local/lib/python3.10/dist-packages (from patsy>=0.5.4->statsmodels->pgmpy) (1.16.0)\n",
            "Requirement already satisfied: MarkupSafe>=2.0 in /usr/local/lib/python3.10/dist-packages (from jinja2->torch->pgmpy) (2.1.5)\n",
            "Requirement already satisfied: mpmath>=0.19 in /usr/local/lib/python3.10/dist-packages (from sympy->torch->pgmpy) (1.3.0)\n"
          ]
        },
        {
          "output_type": "execute_result",
          "data": {
            "text/plain": [
              "      age  sex  cp  trestbps  chol  fbs  restecg  thalach  exang  oldpeak  \\\n",
              "0      52    1   0       125   212    0        1      168      0      1.0   \n",
              "1      53    1   0       140   203    1        0      155      1      3.1   \n",
              "2      70    1   0       145   174    0        1      125      1      2.6   \n",
              "3      61    1   0       148   203    0        1      161      0      0.0   \n",
              "4      62    0   0       138   294    1        1      106      0      1.9   \n",
              "...   ...  ...  ..       ...   ...  ...      ...      ...    ...      ...   \n",
              "1020   59    1   1       140   221    0        1      164      1      0.0   \n",
              "1021   60    1   0       125   258    0        0      141      1      2.8   \n",
              "1022   47    1   0       110   275    0        0      118      1      1.0   \n",
              "1023   50    0   0       110   254    0        0      159      0      0.0   \n",
              "1024   54    1   0       120   188    0        1      113      0      1.4   \n",
              "\n",
              "      slope  ca  thal  class  \n",
              "0         2   2     3      0  \n",
              "1         0   0     3      0  \n",
              "2         0   0     3      0  \n",
              "3         2   1     3      0  \n",
              "4         1   3     2      0  \n",
              "...     ...  ..   ...    ...  \n",
              "1020      2   0     2      1  \n",
              "1021      1   1     3      0  \n",
              "1022      1   1     2      0  \n",
              "1023      2   0     2      1  \n",
              "1024      1   1     3      0  \n",
              "\n",
              "[1025 rows x 14 columns]"
            ],
            "text/html": [
              "\n",
              "  <div id=\"df-53529ac0-e534-40fc-a72f-916f893e68a0\" class=\"colab-df-container\">\n",
              "    <div>\n",
              "<style scoped>\n",
              "    .dataframe tbody tr th:only-of-type {\n",
              "        vertical-align: middle;\n",
              "    }\n",
              "\n",
              "    .dataframe tbody tr th {\n",
              "        vertical-align: top;\n",
              "    }\n",
              "\n",
              "    .dataframe thead th {\n",
              "        text-align: right;\n",
              "    }\n",
              "</style>\n",
              "<table border=\"1\" class=\"dataframe\">\n",
              "  <thead>\n",
              "    <tr style=\"text-align: right;\">\n",
              "      <th></th>\n",
              "      <th>age</th>\n",
              "      <th>sex</th>\n",
              "      <th>cp</th>\n",
              "      <th>trestbps</th>\n",
              "      <th>chol</th>\n",
              "      <th>fbs</th>\n",
              "      <th>restecg</th>\n",
              "      <th>thalach</th>\n",
              "      <th>exang</th>\n",
              "      <th>oldpeak</th>\n",
              "      <th>slope</th>\n",
              "      <th>ca</th>\n",
              "      <th>thal</th>\n",
              "      <th>class</th>\n",
              "    </tr>\n",
              "  </thead>\n",
              "  <tbody>\n",
              "    <tr>\n",
              "      <th>0</th>\n",
              "      <td>52</td>\n",
              "      <td>1</td>\n",
              "      <td>0</td>\n",
              "      <td>125</td>\n",
              "      <td>212</td>\n",
              "      <td>0</td>\n",
              "      <td>1</td>\n",
              "      <td>168</td>\n",
              "      <td>0</td>\n",
              "      <td>1.0</td>\n",
              "      <td>2</td>\n",
              "      <td>2</td>\n",
              "      <td>3</td>\n",
              "      <td>0</td>\n",
              "    </tr>\n",
              "    <tr>\n",
              "      <th>1</th>\n",
              "      <td>53</td>\n",
              "      <td>1</td>\n",
              "      <td>0</td>\n",
              "      <td>140</td>\n",
              "      <td>203</td>\n",
              "      <td>1</td>\n",
              "      <td>0</td>\n",
              "      <td>155</td>\n",
              "      <td>1</td>\n",
              "      <td>3.1</td>\n",
              "      <td>0</td>\n",
              "      <td>0</td>\n",
              "      <td>3</td>\n",
              "      <td>0</td>\n",
              "    </tr>\n",
              "    <tr>\n",
              "      <th>2</th>\n",
              "      <td>70</td>\n",
              "      <td>1</td>\n",
              "      <td>0</td>\n",
              "      <td>145</td>\n",
              "      <td>174</td>\n",
              "      <td>0</td>\n",
              "      <td>1</td>\n",
              "      <td>125</td>\n",
              "      <td>1</td>\n",
              "      <td>2.6</td>\n",
              "      <td>0</td>\n",
              "      <td>0</td>\n",
              "      <td>3</td>\n",
              "      <td>0</td>\n",
              "    </tr>\n",
              "    <tr>\n",
              "      <th>3</th>\n",
              "      <td>61</td>\n",
              "      <td>1</td>\n",
              "      <td>0</td>\n",
              "      <td>148</td>\n",
              "      <td>203</td>\n",
              "      <td>0</td>\n",
              "      <td>1</td>\n",
              "      <td>161</td>\n",
              "      <td>0</td>\n",
              "      <td>0.0</td>\n",
              "      <td>2</td>\n",
              "      <td>1</td>\n",
              "      <td>3</td>\n",
              "      <td>0</td>\n",
              "    </tr>\n",
              "    <tr>\n",
              "      <th>4</th>\n",
              "      <td>62</td>\n",
              "      <td>0</td>\n",
              "      <td>0</td>\n",
              "      <td>138</td>\n",
              "      <td>294</td>\n",
              "      <td>1</td>\n",
              "      <td>1</td>\n",
              "      <td>106</td>\n",
              "      <td>0</td>\n",
              "      <td>1.9</td>\n",
              "      <td>1</td>\n",
              "      <td>3</td>\n",
              "      <td>2</td>\n",
              "      <td>0</td>\n",
              "    </tr>\n",
              "    <tr>\n",
              "      <th>...</th>\n",
              "      <td>...</td>\n",
              "      <td>...</td>\n",
              "      <td>...</td>\n",
              "      <td>...</td>\n",
              "      <td>...</td>\n",
              "      <td>...</td>\n",
              "      <td>...</td>\n",
              "      <td>...</td>\n",
              "      <td>...</td>\n",
              "      <td>...</td>\n",
              "      <td>...</td>\n",
              "      <td>...</td>\n",
              "      <td>...</td>\n",
              "      <td>...</td>\n",
              "    </tr>\n",
              "    <tr>\n",
              "      <th>1020</th>\n",
              "      <td>59</td>\n",
              "      <td>1</td>\n",
              "      <td>1</td>\n",
              "      <td>140</td>\n",
              "      <td>221</td>\n",
              "      <td>0</td>\n",
              "      <td>1</td>\n",
              "      <td>164</td>\n",
              "      <td>1</td>\n",
              "      <td>0.0</td>\n",
              "      <td>2</td>\n",
              "      <td>0</td>\n",
              "      <td>2</td>\n",
              "      <td>1</td>\n",
              "    </tr>\n",
              "    <tr>\n",
              "      <th>1021</th>\n",
              "      <td>60</td>\n",
              "      <td>1</td>\n",
              "      <td>0</td>\n",
              "      <td>125</td>\n",
              "      <td>258</td>\n",
              "      <td>0</td>\n",
              "      <td>0</td>\n",
              "      <td>141</td>\n",
              "      <td>1</td>\n",
              "      <td>2.8</td>\n",
              "      <td>1</td>\n",
              "      <td>1</td>\n",
              "      <td>3</td>\n",
              "      <td>0</td>\n",
              "    </tr>\n",
              "    <tr>\n",
              "      <th>1022</th>\n",
              "      <td>47</td>\n",
              "      <td>1</td>\n",
              "      <td>0</td>\n",
              "      <td>110</td>\n",
              "      <td>275</td>\n",
              "      <td>0</td>\n",
              "      <td>0</td>\n",
              "      <td>118</td>\n",
              "      <td>1</td>\n",
              "      <td>1.0</td>\n",
              "      <td>1</td>\n",
              "      <td>1</td>\n",
              "      <td>2</td>\n",
              "      <td>0</td>\n",
              "    </tr>\n",
              "    <tr>\n",
              "      <th>1023</th>\n",
              "      <td>50</td>\n",
              "      <td>0</td>\n",
              "      <td>0</td>\n",
              "      <td>110</td>\n",
              "      <td>254</td>\n",
              "      <td>0</td>\n",
              "      <td>0</td>\n",
              "      <td>159</td>\n",
              "      <td>0</td>\n",
              "      <td>0.0</td>\n",
              "      <td>2</td>\n",
              "      <td>0</td>\n",
              "      <td>2</td>\n",
              "      <td>1</td>\n",
              "    </tr>\n",
              "    <tr>\n",
              "      <th>1024</th>\n",
              "      <td>54</td>\n",
              "      <td>1</td>\n",
              "      <td>0</td>\n",
              "      <td>120</td>\n",
              "      <td>188</td>\n",
              "      <td>0</td>\n",
              "      <td>1</td>\n",
              "      <td>113</td>\n",
              "      <td>0</td>\n",
              "      <td>1.4</td>\n",
              "      <td>1</td>\n",
              "      <td>1</td>\n",
              "      <td>3</td>\n",
              "      <td>0</td>\n",
              "    </tr>\n",
              "  </tbody>\n",
              "</table>\n",
              "<p>1025 rows × 14 columns</p>\n",
              "</div>\n",
              "    <div class=\"colab-df-buttons\">\n",
              "\n",
              "  <div class=\"colab-df-container\">\n",
              "    <button class=\"colab-df-convert\" onclick=\"convertToInteractive('df-53529ac0-e534-40fc-a72f-916f893e68a0')\"\n",
              "            title=\"Convert this dataframe to an interactive table.\"\n",
              "            style=\"display:none;\">\n",
              "\n",
              "  <svg xmlns=\"http://www.w3.org/2000/svg\" height=\"24px\" viewBox=\"0 -960 960 960\">\n",
              "    <path d=\"M120-120v-720h720v720H120Zm60-500h600v-160H180v160Zm220 220h160v-160H400v160Zm0 220h160v-160H400v160ZM180-400h160v-160H180v160Zm440 0h160v-160H620v160ZM180-180h160v-160H180v160Zm440 0h160v-160H620v160Z\"/>\n",
              "  </svg>\n",
              "    </button>\n",
              "\n",
              "  <style>\n",
              "    .colab-df-container {\n",
              "      display:flex;\n",
              "      gap: 12px;\n",
              "    }\n",
              "\n",
              "    .colab-df-convert {\n",
              "      background-color: #E8F0FE;\n",
              "      border: none;\n",
              "      border-radius: 50%;\n",
              "      cursor: pointer;\n",
              "      display: none;\n",
              "      fill: #1967D2;\n",
              "      height: 32px;\n",
              "      padding: 0 0 0 0;\n",
              "      width: 32px;\n",
              "    }\n",
              "\n",
              "    .colab-df-convert:hover {\n",
              "      background-color: #E2EBFA;\n",
              "      box-shadow: 0px 1px 2px rgba(60, 64, 67, 0.3), 0px 1px 3px 1px rgba(60, 64, 67, 0.15);\n",
              "      fill: #174EA6;\n",
              "    }\n",
              "\n",
              "    .colab-df-buttons div {\n",
              "      margin-bottom: 4px;\n",
              "    }\n",
              "\n",
              "    [theme=dark] .colab-df-convert {\n",
              "      background-color: #3B4455;\n",
              "      fill: #D2E3FC;\n",
              "    }\n",
              "\n",
              "    [theme=dark] .colab-df-convert:hover {\n",
              "      background-color: #434B5C;\n",
              "      box-shadow: 0px 1px 3px 1px rgba(0, 0, 0, 0.15);\n",
              "      filter: drop-shadow(0px 1px 2px rgba(0, 0, 0, 0.3));\n",
              "      fill: #FFFFFF;\n",
              "    }\n",
              "  </style>\n",
              "\n",
              "    <script>\n",
              "      const buttonEl =\n",
              "        document.querySelector('#df-53529ac0-e534-40fc-a72f-916f893e68a0 button.colab-df-convert');\n",
              "      buttonEl.style.display =\n",
              "        google.colab.kernel.accessAllowed ? 'block' : 'none';\n",
              "\n",
              "      async function convertToInteractive(key) {\n",
              "        const element = document.querySelector('#df-53529ac0-e534-40fc-a72f-916f893e68a0');\n",
              "        const dataTable =\n",
              "          await google.colab.kernel.invokeFunction('convertToInteractive',\n",
              "                                                    [key], {});\n",
              "        if (!dataTable) return;\n",
              "\n",
              "        const docLinkHtml = 'Like what you see? Visit the ' +\n",
              "          '<a target=\"_blank\" href=https://colab.research.google.com/notebooks/data_table.ipynb>data table notebook</a>'\n",
              "          + ' to learn more about interactive tables.';\n",
              "        element.innerHTML = '';\n",
              "        dataTable['output_type'] = 'display_data';\n",
              "        await google.colab.output.renderOutput(dataTable, element);\n",
              "        const docLink = document.createElement('div');\n",
              "        docLink.innerHTML = docLinkHtml;\n",
              "        element.appendChild(docLink);\n",
              "      }\n",
              "    </script>\n",
              "  </div>\n",
              "\n",
              "\n",
              "<div id=\"df-ac4e0a5e-6985-4256-bdc9-8689fb27021b\">\n",
              "  <button class=\"colab-df-quickchart\" onclick=\"quickchart('df-ac4e0a5e-6985-4256-bdc9-8689fb27021b')\"\n",
              "            title=\"Suggest charts\"\n",
              "            style=\"display:none;\">\n",
              "\n",
              "<svg xmlns=\"http://www.w3.org/2000/svg\" height=\"24px\"viewBox=\"0 0 24 24\"\n",
              "     width=\"24px\">\n",
              "    <g>\n",
              "        <path d=\"M19 3H5c-1.1 0-2 .9-2 2v14c0 1.1.9 2 2 2h14c1.1 0 2-.9 2-2V5c0-1.1-.9-2-2-2zM9 17H7v-7h2v7zm4 0h-2V7h2v10zm4 0h-2v-4h2v4z\"/>\n",
              "    </g>\n",
              "</svg>\n",
              "  </button>\n",
              "\n",
              "<style>\n",
              "  .colab-df-quickchart {\n",
              "      --bg-color: #E8F0FE;\n",
              "      --fill-color: #1967D2;\n",
              "      --hover-bg-color: #E2EBFA;\n",
              "      --hover-fill-color: #174EA6;\n",
              "      --disabled-fill-color: #AAA;\n",
              "      --disabled-bg-color: #DDD;\n",
              "  }\n",
              "\n",
              "  [theme=dark] .colab-df-quickchart {\n",
              "      --bg-color: #3B4455;\n",
              "      --fill-color: #D2E3FC;\n",
              "      --hover-bg-color: #434B5C;\n",
              "      --hover-fill-color: #FFFFFF;\n",
              "      --disabled-bg-color: #3B4455;\n",
              "      --disabled-fill-color: #666;\n",
              "  }\n",
              "\n",
              "  .colab-df-quickchart {\n",
              "    background-color: var(--bg-color);\n",
              "    border: none;\n",
              "    border-radius: 50%;\n",
              "    cursor: pointer;\n",
              "    display: none;\n",
              "    fill: var(--fill-color);\n",
              "    height: 32px;\n",
              "    padding: 0;\n",
              "    width: 32px;\n",
              "  }\n",
              "\n",
              "  .colab-df-quickchart:hover {\n",
              "    background-color: var(--hover-bg-color);\n",
              "    box-shadow: 0 1px 2px rgba(60, 64, 67, 0.3), 0 1px 3px 1px rgba(60, 64, 67, 0.15);\n",
              "    fill: var(--button-hover-fill-color);\n",
              "  }\n",
              "\n",
              "  .colab-df-quickchart-complete:disabled,\n",
              "  .colab-df-quickchart-complete:disabled:hover {\n",
              "    background-color: var(--disabled-bg-color);\n",
              "    fill: var(--disabled-fill-color);\n",
              "    box-shadow: none;\n",
              "  }\n",
              "\n",
              "  .colab-df-spinner {\n",
              "    border: 2px solid var(--fill-color);\n",
              "    border-color: transparent;\n",
              "    border-bottom-color: var(--fill-color);\n",
              "    animation:\n",
              "      spin 1s steps(1) infinite;\n",
              "  }\n",
              "\n",
              "  @keyframes spin {\n",
              "    0% {\n",
              "      border-color: transparent;\n",
              "      border-bottom-color: var(--fill-color);\n",
              "      border-left-color: var(--fill-color);\n",
              "    }\n",
              "    20% {\n",
              "      border-color: transparent;\n",
              "      border-left-color: var(--fill-color);\n",
              "      border-top-color: var(--fill-color);\n",
              "    }\n",
              "    30% {\n",
              "      border-color: transparent;\n",
              "      border-left-color: var(--fill-color);\n",
              "      border-top-color: var(--fill-color);\n",
              "      border-right-color: var(--fill-color);\n",
              "    }\n",
              "    40% {\n",
              "      border-color: transparent;\n",
              "      border-right-color: var(--fill-color);\n",
              "      border-top-color: var(--fill-color);\n",
              "    }\n",
              "    60% {\n",
              "      border-color: transparent;\n",
              "      border-right-color: var(--fill-color);\n",
              "    }\n",
              "    80% {\n",
              "      border-color: transparent;\n",
              "      border-right-color: var(--fill-color);\n",
              "      border-bottom-color: var(--fill-color);\n",
              "    }\n",
              "    90% {\n",
              "      border-color: transparent;\n",
              "      border-bottom-color: var(--fill-color);\n",
              "    }\n",
              "  }\n",
              "</style>\n",
              "\n",
              "  <script>\n",
              "    async function quickchart(key) {\n",
              "      const quickchartButtonEl =\n",
              "        document.querySelector('#' + key + ' button');\n",
              "      quickchartButtonEl.disabled = true;  // To prevent multiple clicks.\n",
              "      quickchartButtonEl.classList.add('colab-df-spinner');\n",
              "      try {\n",
              "        const charts = await google.colab.kernel.invokeFunction(\n",
              "            'suggestCharts', [key], {});\n",
              "      } catch (error) {\n",
              "        console.error('Error during call to suggestCharts:', error);\n",
              "      }\n",
              "      quickchartButtonEl.classList.remove('colab-df-spinner');\n",
              "      quickchartButtonEl.classList.add('colab-df-quickchart-complete');\n",
              "    }\n",
              "    (() => {\n",
              "      let quickchartButtonEl =\n",
              "        document.querySelector('#df-ac4e0a5e-6985-4256-bdc9-8689fb27021b button');\n",
              "      quickchartButtonEl.style.display =\n",
              "        google.colab.kernel.accessAllowed ? 'block' : 'none';\n",
              "    })();\n",
              "  </script>\n",
              "</div>\n",
              "    </div>\n",
              "  </div>\n"
            ],
            "application/vnd.google.colaboratory.intrinsic+json": {
              "type": "dataframe",
              "variable_name": "df",
              "summary": "{\n  \"name\": \"df\",\n  \"rows\": 1025,\n  \"fields\": [\n    {\n      \"column\": \"age\",\n      \"properties\": {\n        \"dtype\": \"number\",\n        \"std\": 9,\n        \"min\": 29,\n        \"max\": 77,\n        \"num_unique_values\": 41,\n        \"samples\": [\n          65,\n          50,\n          54\n        ],\n        \"semantic_type\": \"\",\n        \"description\": \"\"\n      }\n    },\n    {\n      \"column\": \"sex\",\n      \"properties\": {\n        \"dtype\": \"number\",\n        \"std\": 0,\n        \"min\": 0,\n        \"max\": 1,\n        \"num_unique_values\": 2,\n        \"samples\": [\n          0,\n          1\n        ],\n        \"semantic_type\": \"\",\n        \"description\": \"\"\n      }\n    },\n    {\n      \"column\": \"cp\",\n      \"properties\": {\n        \"dtype\": \"number\",\n        \"std\": 1,\n        \"min\": 0,\n        \"max\": 3,\n        \"num_unique_values\": 4,\n        \"samples\": [\n          1,\n          3\n        ],\n        \"semantic_type\": \"\",\n        \"description\": \"\"\n      }\n    },\n    {\n      \"column\": \"trestbps\",\n      \"properties\": {\n        \"dtype\": \"number\",\n        \"std\": 17,\n        \"min\": 94,\n        \"max\": 200,\n        \"num_unique_values\": 49,\n        \"samples\": [\n          128,\n          172\n        ],\n        \"semantic_type\": \"\",\n        \"description\": \"\"\n      }\n    },\n    {\n      \"column\": \"chol\",\n      \"properties\": {\n        \"dtype\": \"number\",\n        \"std\": 51,\n        \"min\": 126,\n        \"max\": 564,\n        \"num_unique_values\": 152,\n        \"samples\": [\n          267,\n          262\n        ],\n        \"semantic_type\": \"\",\n        \"description\": \"\"\n      }\n    },\n    {\n      \"column\": \"fbs\",\n      \"properties\": {\n        \"dtype\": \"number\",\n        \"std\": 0,\n        \"min\": 0,\n        \"max\": 1,\n        \"num_unique_values\": 2,\n        \"samples\": [\n          1,\n          0\n        ],\n        \"semantic_type\": \"\",\n        \"description\": \"\"\n      }\n    },\n    {\n      \"column\": \"restecg\",\n      \"properties\": {\n        \"dtype\": \"number\",\n        \"std\": 0,\n        \"min\": 0,\n        \"max\": 2,\n        \"num_unique_values\": 3,\n        \"samples\": [\n          1,\n          0\n        ],\n        \"semantic_type\": \"\",\n        \"description\": \"\"\n      }\n    },\n    {\n      \"column\": \"thalach\",\n      \"properties\": {\n        \"dtype\": \"number\",\n        \"std\": 23,\n        \"min\": 71,\n        \"max\": 202,\n        \"num_unique_values\": 91,\n        \"samples\": [\n          180,\n          152\n        ],\n        \"semantic_type\": \"\",\n        \"description\": \"\"\n      }\n    },\n    {\n      \"column\": \"exang\",\n      \"properties\": {\n        \"dtype\": \"number\",\n        \"std\": 0,\n        \"min\": 0,\n        \"max\": 1,\n        \"num_unique_values\": 2,\n        \"samples\": [\n          1,\n          0\n        ],\n        \"semantic_type\": \"\",\n        \"description\": \"\"\n      }\n    },\n    {\n      \"column\": \"oldpeak\",\n      \"properties\": {\n        \"dtype\": \"number\",\n        \"std\": 1.175053255150176,\n        \"min\": 0.0,\n        \"max\": 6.2,\n        \"num_unique_values\": 40,\n        \"samples\": [\n          2.8,\n          0.4\n        ],\n        \"semantic_type\": \"\",\n        \"description\": \"\"\n      }\n    },\n    {\n      \"column\": \"slope\",\n      \"properties\": {\n        \"dtype\": \"number\",\n        \"std\": 0,\n        \"min\": 0,\n        \"max\": 2,\n        \"num_unique_values\": 3,\n        \"samples\": [\n          2,\n          0\n        ],\n        \"semantic_type\": \"\",\n        \"description\": \"\"\n      }\n    },\n    {\n      \"column\": \"ca\",\n      \"properties\": {\n        \"dtype\": \"number\",\n        \"std\": 1,\n        \"min\": 0,\n        \"max\": 4,\n        \"num_unique_values\": 5,\n        \"samples\": [\n          0,\n          4\n        ],\n        \"semantic_type\": \"\",\n        \"description\": \"\"\n      }\n    },\n    {\n      \"column\": \"thal\",\n      \"properties\": {\n        \"dtype\": \"number\",\n        \"std\": 0,\n        \"min\": 0,\n        \"max\": 3,\n        \"num_unique_values\": 4,\n        \"samples\": [\n          2,\n          0\n        ],\n        \"semantic_type\": \"\",\n        \"description\": \"\"\n      }\n    },\n    {\n      \"column\": \"class\",\n      \"properties\": {\n        \"dtype\": \"number\",\n        \"std\": 0,\n        \"min\": 0,\n        \"max\": 1,\n        \"num_unique_values\": 2,\n        \"samples\": [\n          1,\n          0\n        ],\n        \"semantic_type\": \"\",\n        \"description\": \"\"\n      }\n    }\n  ]\n}"
            }
          },
          "metadata": {},
          "execution_count": 1
        }
      ],
      "source": [
        "#Installing the required packages\n",
        "!pip install pgmpy\n",
        "\n",
        "from pgmpy.models import BayesianNetwork\n",
        "from pgmpy.factors.discrete import TabularCPD\n",
        "from pgmpy.inference import VariableElimination# Load the dataset\n",
        "from pgmpy.estimators import ParameterEstimator, MaximumLikelihoodEstimator\n",
        "from pgmpy.estimators import HillClimbSearch, BicScore\n",
        "from pgmpy.models import BayesianModel\n",
        "from pgmpy.estimators import ParameterEstimator, MaximumLikelihoodEstimator\n",
        "import pandas as pd\n",
        "\n",
        "# Loading the Dataset\n",
        "url = 'https://raw.githubusercontent.com/crbeveridge1065/ml_data/main/heart.csv'\n",
        "df = pd.read_csv(url)\n",
        "df"
      ]
    },
    {
      "cell_type": "markdown",
      "metadata": {
        "id": "_REjCLqhbh0V"
      },
      "source": [
        "I need to bin the continuous variables to make the network easier to work with...."
      ]
    },
    {
      "cell_type": "code",
      "execution_count": 2,
      "metadata": {
        "id": "DezRWqC8bh0W"
      },
      "outputs": [],
      "source": [
        "# Age binning\n",
        "age_bins = [0, 30, 60, 120]\n",
        "age_labels = ['Young', 'Middle-aged', 'Elderly']\n",
        "df['age_binned'] = pd.cut(df['age'], bins=age_bins, labels=age_labels, include_lowest=True)\n",
        "\n",
        "# Resting blood pressure binning\n",
        "trestbps_bins = [0, 120, 140, 200]  # Assuming standard classification\n",
        "trestbps_labels = ['Low', 'Normal', 'High']\n",
        "df['trestbps_binned'] = pd.cut(df['trestbps'], bins=trestbps_bins, labels=trestbps_labels, include_lowest=True)\n",
        "\n",
        "# Cholesterol binning\n",
        "chol_bins = [0, 200, 239, 600]  # Assuming standard classification\n",
        "chol_labels = ['Desirable', 'Borderline high', 'High']\n",
        "df['chol_binned'] = pd.cut(df['chol'], bins=chol_bins, labels=chol_labels, include_lowest=True)\n",
        "\n",
        "# Maximum heart rate achieved binning\n",
        "# For 'thalach', we use quantiles as the values might be relative to age/fitness\n",
        "thalach_bins = pd.qcut(df['thalach'], q=3, labels=['Below Average', 'Average', 'Above Average'])\n",
        "df['thalach_binned'] = thalach_bins\n",
        "\n",
        "# ST depression binning\n",
        "oldpeak_bins = [0, 1, 2, 6]  # Custom bins based on clinical relevance\n",
        "oldpeak_labels = ['Minimal', 'Moderate', 'Severe']\n",
        "df['oldpeak_binned'] = pd.cut(df['oldpeak'], bins=oldpeak_bins, labels=oldpeak_labels, include_lowest=True)\n",
        "\n",
        "# Drop the original continuous variables\n",
        "df = df.drop(['age', 'trestbps', 'chol', 'thalach', 'oldpeak'], axis=1)\n",
        "\n",
        "\n"
      ]
    },
    {
      "cell_type": "markdown",
      "metadata": {
        "id": "85blsedeNsF-"
      },
      "source": [
        "### Define the Structure\n",
        "\n",
        "The structure of our Bayesian network is learned with HillClimbing search"
      ]
    },
    {
      "cell_type": "code",
      "source": [
        "hc = HillClimbSearch(df)\n",
        "best_model = hc.estimate(scoring_method=BicScore(df))\n",
        "edges = list(best_model.edges())\n",
        "edges"
      ],
      "metadata": {
        "colab": {
          "base_uri": "https://localhost:8080/",
          "height": 418,
          "referenced_widgets": [
            "f62a46886f374e4bb56e9b4715ab7095",
            "053c6472eb5b497681501d1fa3a5b133",
            "fb5f4f794b5141aea0a593204d7bcac3",
            "fd1e86dc0ecb4ffd8199ec03d74802bd",
            "7bf82885a8094eecab9a42964e7463fa",
            "4af08efe1ee44fab9c8948437ddf2049",
            "7a91be822bfc4aa99090ac8e7f55081c",
            "d96269a7a2324ac2a5b7bca28417ea84",
            "32009d38ae464181abc535d74efc2888",
            "39256b85eae540fa9c189bb901983cf2",
            "0690ac1e32be417c8078f190a9261599"
          ]
        },
        "id": "NBoY_Bw4dDw9",
        "outputId": "becde665-df7d-409c-f5db-3e188f0cc5d1"
      },
      "execution_count": 3,
      "outputs": [
        {
          "output_type": "display_data",
          "data": {
            "text/plain": [
              "  0%|          | 0/1000000 [00:00<?, ?it/s]"
            ],
            "application/vnd.jupyter.widget-view+json": {
              "version_major": 2,
              "version_minor": 0,
              "model_id": "f62a46886f374e4bb56e9b4715ab7095"
            }
          },
          "metadata": {}
        },
        {
          "output_type": "execute_result",
          "data": {
            "text/plain": [
              "[('sex', 'class'),\n",
              " ('sex', 'ca'),\n",
              " ('sex', 'age_binned'),\n",
              " ('cp', 'exang'),\n",
              " ('restecg', 'chol_binned'),\n",
              " ('exang', 'oldpeak_binned'),\n",
              " ('slope', 'thalach_binned'),\n",
              " ('thal', 'class'),\n",
              " ('thal', 'sex'),\n",
              " ('class', 'cp'),\n",
              " ('class', 'ca'),\n",
              " ('class', 'oldpeak_binned'),\n",
              " ('class', 'thalach_binned'),\n",
              " ('class', 'exang'),\n",
              " ('class', 'slope'),\n",
              " ('age_binned', 'trestbps_binned'),\n",
              " ('trestbps_binned', 'fbs'),\n",
              " ('thalach_binned', 'age_binned'),\n",
              " ('oldpeak_binned', 'slope'),\n",
              " ('oldpeak_binned', 'restecg')]"
            ]
          },
          "metadata": {},
          "execution_count": 3
        }
      ]
    },
    {
      "cell_type": "code",
      "execution_count": 22,
      "metadata": {
        "id": "SUOZZFfTNsF-"
      },
      "outputs": [],
      "source": [
        "# use pgmpy to define the structure of the Bayesian network\n",
        "model = BayesianNetwork(edges)\n",
        "\n",
        "\n"
      ]
    },
    {
      "cell_type": "markdown",
      "metadata": {
        "id": "-niFrsQDbh0X"
      },
      "source": [
        "# Estimating the Conditional Probability Distributions\n",
        "\n",
        "In this section of our analysis, I utilize the MaximumLikelihoodEstimator to learn the Conditional Probability Distributions (CPDs) of our Bayesian network model. This is a crucial step in the process of Bayesian modeling, as CPDs quantify the relationships between variables in the network. Here’s a breakdown of what this code does and why it's important:\n",
        "\n",
        "The goal of MLE is to find the set of parameters (in our case, probability values for CPDs) that makes the observed data most likely. It does this by maximizing a likelihood function, which measures how well the data fits a given model.\n"
      ]
    },
    {
      "cell_type": "code",
      "execution_count": 23,
      "metadata": {
        "colab": {
          "base_uri": "https://localhost:8080/"
        },
        "id": "19Q62N7Hbh0Y",
        "outputId": "5cf6a9f8-2edc-41f8-cdaf-a254f8d6f2b4"
      },
      "outputs": [
        {
          "output_type": "stream",
          "name": "stdout",
          "text": [
            "+--------+---------------------+---------+--------------------+---------------------+\n",
            "| thal   | thal(0)             | thal(1) | thal(2)            | thal(3)             |\n",
            "+--------+---------------------+---------+--------------------+---------------------+\n",
            "| sex(0) | 0.42857142857142855 | 0.0625  | 0.4632352941176471 | 0.12926829268292683 |\n",
            "+--------+---------------------+---------+--------------------+---------------------+\n",
            "| sex(1) | 0.5714285714285714  | 0.9375  | 0.5367647058823529 | 0.8707317073170732  |\n",
            "+--------+---------------------+---------+--------------------+---------------------+\n",
            "+----------+---------+---------+-----+--------------------+---------------------+\n",
            "| sex      | sex(0)  | sex(0)  | ... | sex(1)             | sex(1)              |\n",
            "+----------+---------+---------+-----+--------------------+---------------------+\n",
            "| thal     | thal(0) | thal(1) | ... | thal(2)            | thal(3)             |\n",
            "+----------+---------+---------+-----+--------------------+---------------------+\n",
            "| class(0) | 0.0     | 1.0     | ... | 0.3321917808219178 | 0.7647058823529411  |\n",
            "+----------+---------+---------+-----+--------------------+---------------------+\n",
            "| class(1) | 1.0     | 0.0     | ... | 0.6678082191780822 | 0.23529411764705882 |\n",
            "+----------+---------+---------+-----+--------------------+---------------------+\n",
            "+-------+---------------------+----------------------+---------------------+---------------------+\n",
            "| class | class(0)            | class(0)             | class(1)            | class(1)            |\n",
            "+-------+---------------------+----------------------+---------------------+---------------------+\n",
            "| sex   | sex(0)              | sex(1)               | sex(0)              | sex(1)              |\n",
            "+-------+---------------------+----------------------+---------------------+---------------------+\n",
            "| ca(0) | 0.36046511627906974 | 0.3196125907990315   | 0.7654867256637168  | 0.8066666666666666  |\n",
            "+-------+---------------------+----------------------+---------------------+---------------------+\n",
            "| ca(1) | 0.12790697674418605 | 0.36077481840193704  | 0.168141592920354   | 0.09333333333333334 |\n",
            "+-------+---------------------+----------------------+---------------------+---------------------+\n",
            "| ca(2) | 0.3488372093023256  | 0.2009685230024213   | 0.06637168141592921 | 0.02                |\n",
            "+-------+---------------------+----------------------+---------------------+---------------------+\n",
            "| ca(3) | 0.16279069767441862 | 0.11138014527845036  | 0.0                 | 0.03                |\n",
            "+-------+---------------------+----------------------+---------------------+---------------------+\n",
            "| ca(4) | 0.0                 | 0.007263922518159807 | 0.0                 | 0.05                |\n",
            "+-------+---------------------+----------------------+---------------------+---------------------+\n",
            "+-------------------------+-----+-------------------------------+\n",
            "| sex                     | ... | sex(1)                        |\n",
            "+-------------------------+-----+-------------------------------+\n",
            "| thalach_binned          | ... | thalach_binned(Below Average) |\n",
            "+-------------------------+-----+-------------------------------+\n",
            "| age_binned(Elderly)     | ... | 0.3590733590733591            |\n",
            "+-------------------------+-----+-------------------------------+\n",
            "| age_binned(Middle-aged) | ... | 0.640926640926641             |\n",
            "+-------------------------+-----+-------------------------------+\n",
            "| age_binned(Young)       | ... | 0.0                           |\n",
            "+-------------------------+-----+-------------------------------+\n",
            "+-------+----------------------+---------------------+\n",
            "| class | class(0)             | class(1)            |\n",
            "+-------+----------------------+---------------------+\n",
            "| cp(0) | 0.751503006012024    | 0.23193916349809887 |\n",
            "+-------+----------------------+---------------------+\n",
            "| cp(1) | 0.06613226452905811  | 0.25475285171102663 |\n",
            "+-------+----------------------+---------------------+\n",
            "| cp(2) | 0.13026052104208416  | 0.41634980988593157 |\n",
            "+-------+----------------------+---------------------+\n",
            "| cp(3) | 0.052104208416833664 | 0.09695817490494296 |\n",
            "+-------+----------------------+---------------------+\n",
            "+----------+--------------------+-----+--------------------+---------------------+\n",
            "| class    | class(0)           | ... | class(1)           | class(1)            |\n",
            "+----------+--------------------+-----+--------------------+---------------------+\n",
            "| cp       | cp(0)              | ... | cp(2)              | cp(3)               |\n",
            "+----------+--------------------+-----+--------------------+---------------------+\n",
            "| exang(0) | 0.3253333333333333 | ... | 0.8949771689497716 | 0.8235294117647058  |\n",
            "+----------+--------------------+-----+--------------------+---------------------+\n",
            "| exang(1) | 0.6746666666666666 | ... | 0.1050228310502283 | 0.17647058823529413 |\n",
            "+----------+--------------------+-----+--------------------+---------------------+\n",
            "+----------------+-------------------------+--------------------------+------------------------+\n",
            "| oldpeak_binned | oldpeak_binned(Minimal) | oldpeak_binned(Moderate) | oldpeak_binned(Severe) |\n",
            "+----------------+-------------------------+--------------------------+------------------------+\n",
            "| restecg(0)     | 0.4674457429048414      | 0.40725806451612906      | 0.6457142857142857     |\n",
            "+----------------+-------------------------+--------------------------+------------------------+\n",
            "| restecg(1)     | 0.5325542570951586      | 0.5645161290322581       | 0.30857142857142855    |\n",
            "+----------------+-------------------------+--------------------------+------------------------+\n",
            "| restecg(2)     | 0.0                     | 0.028225806451612902     | 0.045714285714285714   |\n",
            "+----------------+-------------------------+--------------------------+------------------------+\n",
            "+------------------------------+---------------------+---------------------+---------------------+\n",
            "| restecg                      | restecg(0)          | restecg(1)          | restecg(2)          |\n",
            "+------------------------------+---------------------+---------------------+---------------------+\n",
            "| chol_binned(Borderline high) | 0.2776659959758551  | 0.37816764132553604 | 0.26666666666666666 |\n",
            "+------------------------------+---------------------+---------------------+---------------------+\n",
            "| chol_binned(Desirable)       | 0.12072434607645875 | 0.2124756335282651  | 0.2                 |\n",
            "+------------------------------+---------------------+---------------------+---------------------+\n",
            "| chol_binned(High)            | 0.6016096579476862  | 0.4093567251461988  | 0.5333333333333333  |\n",
            "+------------------------------+---------------------+---------------------+---------------------+\n",
            "+--------------------------+-----+----------------------+---------------------+\n",
            "| class                    | ... | class(1)             | class(1)            |\n",
            "+--------------------------+-----+----------------------+---------------------+\n",
            "| exang                    | ... | exang(0)             | exang(1)            |\n",
            "+--------------------------+-----+----------------------+---------------------+\n",
            "| oldpeak_binned(Minimal)  | ... | 0.7670329670329671   | 0.6901408450704225  |\n",
            "+--------------------------+-----+----------------------+---------------------+\n",
            "| oldpeak_binned(Moderate) | ... | 0.1912087912087912   | 0.2676056338028169  |\n",
            "+--------------------------+-----+----------------------+---------------------+\n",
            "| oldpeak_binned(Severe)   | ... | 0.041758241758241756 | 0.04225352112676056 |\n",
            "+--------------------------+-----+----------------------+---------------------+\n",
            "+----------------+-------------------------+-----+------------------------+\n",
            "| class          | class(0)                | ... | class(1)               |\n",
            "+----------------+-------------------------+-----+------------------------+\n",
            "| oldpeak_binned | oldpeak_binned(Minimal) | ... | oldpeak_binned(Severe) |\n",
            "+----------------+-------------------------+-----+------------------------+\n",
            "| slope(0)       | 0.01990049751243781     | ... | 0.5454545454545454     |\n",
            "+----------------+-------------------------+-----+------------------------+\n",
            "| slope(1)       | 0.472636815920398       | ... | 0.2727272727272727     |\n",
            "+----------------+-------------------------+-----+------------------------+\n",
            "| slope(2)       | 0.5074626865671642      | ... | 0.18181818181818182    |\n",
            "+----------------+-------------------------+-----+------------------------+\n",
            "+-------------------------------+-----+---------------------+---------------------+\n",
            "| class                         | ... | class(1)            | class(1)            |\n",
            "+-------------------------------+-----+---------------------+---------------------+\n",
            "| slope                         | ... | slope(1)            | slope(2)            |\n",
            "+-------------------------------+-----+---------------------+---------------------+\n",
            "| thalach_binned(Above Average) | ... | 0.22151898734177214 | 0.5705882352941176  |\n",
            "+-------------------------------+-----+---------------------+---------------------+\n",
            "| thalach_binned(Average)       | ... | 0.5126582278481012  | 0.3                 |\n",
            "+-------------------------------+-----+---------------------+---------------------+\n",
            "| thalach_binned(Below Average) | ... | 0.26582278481012656 | 0.12941176470588237 |\n",
            "+-------------------------------+-----+---------------------+---------------------+\n",
            "+---------+------------+\n",
            "| thal(0) | 0.00682927 |\n",
            "+---------+------------+\n",
            "| thal(1) | 0.062439   |\n",
            "+---------+------------+\n",
            "| thal(2) | 0.530732   |\n",
            "+---------+------------+\n",
            "| thal(3) | 0.4        |\n",
            "+---------+------------+\n",
            "+-------------------------+---------------------+-------------------------+-------------------+\n",
            "| age_binned              | age_binned(Elderly) | age_binned(Middle-aged) | age_binned(Young) |\n",
            "+-------------------------+---------------------+-------------------------+-------------------+\n",
            "| trestbps_binned(High)   | 0.3492647058823529  | 0.1628838451268358      | 0.0               |\n",
            "+-------------------------+---------------------+-------------------------+-------------------+\n",
            "| trestbps_binned(Low)    | 0.2536764705882353  | 0.3471295060080107      | 0.0               |\n",
            "+-------------------------+---------------------+-------------------------+-------------------+\n",
            "| trestbps_binned(Normal) | 0.39705882352941174 | 0.48998664886515353     | 1.0               |\n",
            "+-------------------------+---------------------+-------------------------+-------------------+\n",
            "+-----------------+-----------------------+----------------------+-------------------------+\n",
            "| trestbps_binned | trestbps_binned(High) | trestbps_binned(Low) | trestbps_binned(Normal) |\n",
            "+-----------------+-----------------------+----------------------+-------------------------+\n",
            "| fbs(0)          | 0.7741935483870968    | 0.939209726443769    | 0.824634655532359       |\n",
            "+-----------------+-----------------------+----------------------+-------------------------+\n",
            "| fbs(1)          | 0.22580645161290322   | 0.060790273556231005 | 0.17536534446764093     |\n",
            "+-----------------+-----------------------+----------------------+-------------------------+\n"
          ]
        }
      ],
      "source": [
        "# Use Maximum Likelihood Estimator to learn the CPDs based on the learned structure\n",
        "model.fit(df, estimator=MaximumLikelihoodEstimator)\n",
        "\n",
        "for cpd in model.get_cpds():\n",
        "    print(cpd)"
      ]
    },
    {
      "cell_type": "markdown",
      "metadata": {
        "id": "t1EpNlo3bh0Y"
      },
      "source": [
        "# Performing Predictive Inference with Bayesian Networks\n",
        "\n",
        "After constructing our Bayesian network and learning the conditional probability distributions (CPDs), the next crucial step is to utilize the model for predictive inference. Predictive inference allows us to estimate the probaility of certain outcomes, given a set of observed evidence. In this section, we demonstrate how to perform these inferences using hypothetical patient scenarios\n",
        "\n",
        "## Variable Elimination Technique\n",
        "\n",
        "To conduct predictive inference, we employ the 'VariableElimination' technique on our Bayesian model:\n",
        "\n",
        "This method efficiently computes the probability distribution of a set of query variables, conditioned on observed evidence. It systematically eliminates variables that are not part of the query or evidence, simplifying computations and enabling us to focus on the variables of interest."
      ]
    },
    {
      "cell_type": "markdown",
      "metadata": {
        "id": "Gn2ahZhNbh0Y"
      },
      "source": [
        "Alex: Middle-aged male with typical angina, normal cholesterol, and normal resting blood pressure."
      ]
    },
    {
      "cell_type": "code",
      "execution_count": 6,
      "metadata": {
        "colab": {
          "base_uri": "https://localhost:8080/"
        },
        "id": "n8xdp6q9bh0Y",
        "outputId": "bdb8dc6f-828c-4fa1-c202-783cdd1a8ca2"
      },
      "outputs": [
        {
          "output_type": "stream",
          "name": "stdout",
          "text": [
            "+----------+--------------+\n",
            "| class    |   phi(class) |\n",
            "+==========+==============+\n",
            "| class(0) |       0.1616 |\n",
            "+----------+--------------+\n",
            "| class(1) |       0.8384 |\n",
            "+----------+--------------+\n"
          ]
        }
      ],
      "source": [
        "infer = VariableElimination(model)\n",
        "\n",
        "evidence_alex = {\n",
        "    'age_binned': 'Middle-aged',\n",
        "    'sex': 1,\n",
        "    'cp': 3,\n",
        "    'chol_binned': 'Desirable',  # Assuming good cholesterol level\n",
        "    'trestbps_binned': 'Normal',  # Assuming normal blood pressure\n",
        "    'thalach_binned': 'Above Average',  # Assuming good fitness\n",
        "    'oldpeak_binned': 'Minimal'  # Assuming minimal ST depression\n",
        "}\n",
        "\n",
        "# Compute the probability of heart disease class given the evidence\n",
        "result = infer.query(variables=['class'], evidence=evidence_alex)\n",
        "print(result)"
      ]
    },
    {
      "cell_type": "markdown",
      "metadata": {
        "id": "PiS0ZBFobh0Y"
      },
      "source": [
        "The results suggest that, given the specific health information provided for Alex, our Bayesian network model predicts a higher probability of heart disease presence (61.74%) than absence (38.26%). It's important to note that these probabilities are derived from the learned relationships and patterns within the data used to train the model and the specific evidence provided about Alex."
      ]
    },
    {
      "cell_type": "markdown",
      "metadata": {
        "id": "wFDUba-Wbh0Z"
      },
      "source": [
        "Dana: Middle-aged female with asymptomatic chest pain, borderline high cholesterol, and normal resting blood pressure."
      ]
    },
    {
      "cell_type": "code",
      "execution_count": 7,
      "metadata": {
        "colab": {
          "base_uri": "https://localhost:8080/"
        },
        "id": "f4CDf_q-bh0Z",
        "outputId": "c1cdbe23-8ac0-4586-962e-c362d0f195b4"
      },
      "outputs": [
        {
          "output_type": "stream",
          "name": "stdout",
          "text": [
            "+----------+--------------+\n",
            "| class    |   phi(class) |\n",
            "+==========+==============+\n",
            "| class(0) |       0.5469 |\n",
            "+----------+--------------+\n",
            "| class(1) |       0.4531 |\n",
            "+----------+--------------+\n"
          ]
        }
      ],
      "source": [
        "evidence_dana = {\n",
        "    'age_binned': 'Middle-aged',\n",
        "    'sex': 0,\n",
        "    'cp': 0,\n",
        "    'chol_binned': 'Borderline high',\n",
        "    'trestbps_binned': 'Normal',\n",
        "    'thalach_binned': 'Average',\n",
        "    'oldpeak_binned': 'Moderate'\n",
        "}\n",
        "\n",
        "# Compute the probability of heart disease class given the evidence\n",
        "result = infer.query(variables=['class'], evidence=evidence_dana)\n",
        "print(result)"
      ]
    },
    {
      "cell_type": "markdown",
      "metadata": {
        "id": "WbagIFrnbh0Z"
      },
      "source": [
        "This result suggests that Dana has a 60.10% chance of not having heart disease and a 39.90% chance of having heart disease. Compared to Alex, Dana's health profile indicates a lower risk of heart disease according to the model."
      ]
    },
    {
      "cell_type": "markdown",
      "metadata": {
        "id": "celM6yAubh0Z"
      },
      "source": [
        "Eli: Elderly male with non-anginal pain, high cholesterol, but low resting blood pressure."
      ]
    },
    {
      "cell_type": "code",
      "execution_count": 8,
      "metadata": {
        "colab": {
          "base_uri": "https://localhost:8080/"
        },
        "id": "vzt3TXf1bh0Z",
        "outputId": "2cab838c-a7b6-42ae-e284-30b6086c8015"
      },
      "outputs": [
        {
          "output_type": "stream",
          "name": "stdout",
          "text": [
            "+----------+--------------+\n",
            "| class    |   phi(class) |\n",
            "+==========+==============+\n",
            "| class(0) |       0.6082 |\n",
            "+----------+--------------+\n",
            "| class(1) |       0.3918 |\n",
            "+----------+--------------+\n"
          ]
        }
      ],
      "source": [
        "evidence_eli = evidence_eli = {\n",
        "    'age_binned': 'Elderly',\n",
        "    'sex': 1,\n",
        "    'cp': 2,\n",
        "    'chol_binned': 'High',\n",
        "    'trestbps_binned': 'Low',\n",
        "    'thalach_binned': 'Average',\n",
        "    'oldpeak_binned': 'Severe'\n",
        "}\n",
        "\n",
        "# Compute the probability of heart disease class given the evidence\n",
        "result = infer.query(variables=['class'], evidence=evidence_eli)\n",
        "\n",
        "print(result)"
      ]
    },
    {
      "cell_type": "markdown",
      "metadata": {
        "id": "6N2FL9W8bh0Z"
      },
      "source": [
        "These probabilities suggest that, according to the Bayesian network model and the evidence provided for Eli, there's a 59.72% chance that Eli does not have heart disease and a 40.28% chance that he does. Despite some high-risk factors like high cholesterol and severe ST depression, the model assesses Eli's overall risk of having heart disease as lower than the risk of not having it."
      ]
    },
    {
      "cell_type": "markdown",
      "metadata": {
        "id": "AVzZpU4Ebh0Z"
      },
      "source": [
        "Casey: Young male with atypical angina, desirable cholesterol levels, and low resting blood pressure."
      ]
    },
    {
      "cell_type": "code",
      "execution_count": 9,
      "metadata": {
        "colab": {
          "base_uri": "https://localhost:8080/"
        },
        "id": "TWhykLVjbh0Z",
        "outputId": "816dcc42-b5bc-4a95-d777-5eecf601aae6"
      },
      "outputs": [
        {
          "output_type": "stream",
          "name": "stdout",
          "text": [
            "+----------+--------------+\n",
            "| class    |   phi(class) |\n",
            "+==========+==============+\n",
            "| class(0) |       0.0867 |\n",
            "+----------+--------------+\n",
            "| class(1) |       0.9133 |\n",
            "+----------+--------------+\n"
          ]
        }
      ],
      "source": [
        "evidence_casey = {\n",
        "    'age_binned': 'Young',\n",
        "    'sex': 1,\n",
        "    'cp': 1,\n",
        "    'chol_binned': 'Desirable',\n",
        "    'trestbps_binned': 'Low',\n",
        "    'thalach_binned': 'Above Average',\n",
        "    'oldpeak_binned': 'Minimal'\n",
        "}\n",
        "\n",
        "# Compute the probability of heart disease class given the evidence\n",
        "result = infer.query(variables=['class'], evidence=evidence_casey)\n",
        "print(result)"
      ]
    },
    {
      "cell_type": "markdown",
      "metadata": {
        "id": "ZRzkNdgWbh0a"
      },
      "source": [
        "Casey's health profile—being young, male, with a certain type of chest pain, desirable cholesterol levels, low resting blood pressure, above-average maximum heart rate achieved, and minimal ST depression—leads the model to estimate a 63.47% chance of having heart disease and a 36.53% chance of not having it. This high probability might seem counterintuitive given the positive health indicators, suggesting that the model might be picking up on nuanced patterns or that Casey's profile matches patterns of individuals with heart disease within the data the model was trained on."
      ]
    },
    {
      "cell_type": "markdown",
      "metadata": {
        "id": "6rLm7mT7bh0a"
      },
      "source": [
        "Blake: Elderly female with non-anginal pain, high cholesterol, and high resting blood pressure."
      ]
    },
    {
      "cell_type": "code",
      "execution_count": 10,
      "metadata": {
        "colab": {
          "base_uri": "https://localhost:8080/"
        },
        "id": "IXv3ZXYjbh0a",
        "outputId": "3bc0761f-2c33-4497-f308-122c6f913022"
      },
      "outputs": [
        {
          "output_type": "stream",
          "name": "stdout",
          "text": [
            "+----------+--------------+\n",
            "| class    |   phi(class) |\n",
            "+==========+==============+\n",
            "| class(0) |       0.7416 |\n",
            "+----------+--------------+\n",
            "| class(1) |       0.2584 |\n",
            "+----------+--------------+\n"
          ]
        }
      ],
      "source": [
        "evidence_blake = {\n",
        "    'age_binned': 'Elderly',\n",
        "    'sex': 0,\n",
        "    'cp': 2,\n",
        "    'chol_binned': 'High',\n",
        "    'trestbps_binned': 'High',\n",
        "    'thalach_binned': 'Below Average',\n",
        "    'oldpeak_binned': 'Severe'\n",
        "}\n",
        "\n",
        "# Compute the probability of heart disease class given the evidence\n",
        "result = infer.query(variables=['class'], evidence=evidence_blake)\n",
        "print(result)\n"
      ]
    },
    {
      "cell_type": "markdown",
      "metadata": {
        "id": "0AcA6Mkmbh0a"
      },
      "source": [
        "Blake's results show a more balanced probability distribution between having and not having heart disease, indicating that her risk factors contribute to a moderate likelihood of heart disease according to the model."
      ]
    },
    {
      "cell_type": "code",
      "execution_count": 11,
      "metadata": {
        "colab": {
          "base_uri": "https://localhost:8080/",
          "height": 234,
          "referenced_widgets": [
            "2c5c775fb232440795f56afde1c0df2c",
            "05d504f039b741fa8aab7516719d67e8",
            "37e9814d4c96446f94123cbf1aa5c3f2",
            "b74b3dfd002d432894282a50ec7ffe66",
            "511eaf71b0584f479d29614994b15e50",
            "445a5304c6c849faac3d0f0ed42402d7",
            "01e1d188648a44258eaafd5d9e4f7bdf",
            "8880035be7f34250b7a11260a151bb66",
            "ac1a3e39720c4df78a3bfab969acff1b",
            "a7247a5e361941faabd08dfe8c0d0607",
            "7b558b00d0ee40b0854b950e78bfcbd0"
          ]
        },
        "id": "PHSL-eaubh0a",
        "outputId": "38ab0b5d-b1c8-4dc8-af6c-fc4262bc0493"
      },
      "outputs": [
        {
          "output_type": "display_data",
          "data": {
            "text/plain": [
              "  0%|          | 0/14 [00:00<?, ?it/s]"
            ],
            "application/vnd.jupyter.widget-view+json": {
              "version_major": 2,
              "version_minor": 0,
              "model_id": "2c5c775fb232440795f56afde1c0df2c"
            }
          },
          "metadata": {}
        },
        {
          "output_type": "stream",
          "name": "stderr",
          "text": [
            "WARNING:pgmpy:Probability values don't exactly sum to 1. Differ by: -2.220446049250313e-16. Adjusting values.\n",
            "WARNING:pgmpy:Probability values don't exactly sum to 1. Differ by: 1.1102230246251565e-16. Adjusting values.\n",
            "WARNING:pgmpy:Probability values don't exactly sum to 1. Differ by: -2.220446049250313e-16. Adjusting values.\n",
            "WARNING:pgmpy:Probability values don't exactly sum to 1. Differ by: -2.220446049250313e-16. Adjusting values.\n",
            "WARNING:pgmpy:Probability values don't exactly sum to 1. Differ by: -2.220446049250313e-16. Adjusting values.\n"
          ]
        },
        {
          "output_type": "execute_result",
          "data": {
            "text/plain": [
              "0    0.833185\n",
              "2    0.097604\n",
              "3    0.036084\n",
              "1    0.033126\n",
              "Name: cp, dtype: float64"
            ]
          },
          "metadata": {},
          "execution_count": 11
        }
      ],
      "source": [
        "from pgmpy.sampling import BayesianModelSampling\n",
        "\n",
        "# Create a sampler object\n",
        "sampler = BayesianModelSampling(model)\n",
        "\n",
        "# Generate a random sample of 10,000 records\n",
        "samples = sampler.forward_sample(size=10000)\n",
        "\n",
        "# Filter samples where exercise-induced angina ('exang') is present\n",
        "samples_with_exang = samples[samples['exang'] == 1]\n",
        "\n",
        "# Now, print the probability distribution of chest pain type ('cp') given the filtered samples\n",
        "cp_distribution_given_exang = samples_with_exang['cp'].value_counts(normalize=True)\n",
        "cp_distribution_given_exang\n"
      ]
    },
    {
      "cell_type": "markdown",
      "metadata": {
        "id": "IALNEY0vbh0a"
      },
      "source": [
        "This distribution offers valuable insights into the correlation between exercise-induced angina and the types of chest pain these patients experience. Notably, a significant majority of patients with exercise-induced angina experience Type 0 chest pain, which is classified as asymptomatic. This suggests that among this specific group, the chest pain most commonly does not align with the traditional symptoms of angina that are easily recognizable.\n",
        "\n",
        "Types 2 and 3 chest pain, which represent non-anginal and atypical angina pain, respectively, account for a smaller portion of the distribution, indicating that these types of chest pain are less common among patients with exercise-induced angina. Type 1, typical angina, is the least common, which may initially seem counterintuitive but underscores the complexity of diagnosing heart conditions based solely on symptom presentation."
      ]
    },
    {
      "cell_type": "markdown",
      "metadata": {
        "id": "_AH6hNTpbh0a"
      },
      "source": [
        "# Probabilistic Inference Using Belief Propagation (BP):\n",
        "\n",
        "In this part of our analysis, we employ the Belief Propagation (BP) algorithm to conduct probabilistic inference on our Bayesian network. This method allows us to calculate the posterior probabilities of certain events, given observed evidence, by propagating beliefs (probabilities) through the network in an efficient manner."
      ]
    },
    {
      "cell_type": "code",
      "execution_count": 12,
      "metadata": {
        "colab": {
          "base_uri": "https://localhost:8080/"
        },
        "id": "aWz0aJjTbh0a",
        "outputId": "9dce2feb-7628-40db-dc67-53d5c870236d"
      },
      "outputs": [
        {
          "output_type": "stream",
          "name": "stdout",
          "text": [
            "+----------+--------------+\n",
            "| class    |   phi(class) |\n",
            "+==========+==============+\n",
            "| class(0) |       0.1616 |\n",
            "+----------+--------------+\n",
            "| class(1) |       0.8384 |\n",
            "+----------+--------------+\n"
          ]
        }
      ],
      "source": [
        "from pgmpy.inference import BeliefPropagation\n",
        "bp = BeliefPropagation(model)\n",
        "bp.calibrate()\n",
        "\n",
        "# Query 1:alex\n",
        "q1 = bp.query(variables=['class'], evidence=evidence_alex)\n",
        "print(q1)"
      ]
    },
    {
      "cell_type": "code",
      "execution_count": 13,
      "metadata": {
        "colab": {
          "base_uri": "https://localhost:8080/"
        },
        "id": "MysKyT9-bh0a",
        "outputId": "b0fe1d4c-1480-4476-c41d-9fe1178bb753"
      },
      "outputs": [
        {
          "output_type": "stream",
          "name": "stdout",
          "text": [
            "+----------+--------------+\n",
            "| class    |   phi(class) |\n",
            "+==========+==============+\n",
            "| class(0) |       0.5469 |\n",
            "+----------+--------------+\n",
            "| class(1) |       0.4531 |\n",
            "+----------+--------------+\n"
          ]
        }
      ],
      "source": [
        "# Query 2: Dana\n",
        "q2 = bp.query(variables=['class'], evidence=evidence_dana)\n",
        "print(q2)"
      ]
    },
    {
      "cell_type": "code",
      "execution_count": 14,
      "metadata": {
        "colab": {
          "base_uri": "https://localhost:8080/"
        },
        "id": "k5aHaG7zbh0a",
        "outputId": "ab15047d-4390-4b35-fe43-3540337e8db6"
      },
      "outputs": [
        {
          "output_type": "stream",
          "name": "stdout",
          "text": [
            "+----------+--------------+\n",
            "| class    |   phi(class) |\n",
            "+==========+==============+\n",
            "| class(0) |       0.6082 |\n",
            "+----------+--------------+\n",
            "| class(1) |       0.3918 |\n",
            "+----------+--------------+\n"
          ]
        }
      ],
      "source": [
        "\n",
        "# Query 3: Eli\n",
        "q3 = bp.query(variables=['class'], evidence=evidence_eli)\n",
        "\n",
        "# Print the result\n",
        "print(q3)\n"
      ]
    },
    {
      "cell_type": "code",
      "execution_count": 15,
      "metadata": {
        "colab": {
          "base_uri": "https://localhost:8080/"
        },
        "id": "M8fAR5EXbh0d",
        "outputId": "7f5dcb96-6c58-4074-d424-8b479472f559"
      },
      "outputs": [
        {
          "output_type": "stream",
          "name": "stdout",
          "text": [
            "+----------+--------------+\n",
            "| class    |   phi(class) |\n",
            "+==========+==============+\n",
            "| class(0) |          nan |\n",
            "+----------+--------------+\n",
            "| class(1) |          nan |\n",
            "+----------+--------------+\n"
          ]
        },
        {
          "output_type": "stream",
          "name": "stderr",
          "text": [
            "/usr/local/lib/python3.10/dist-packages/pgmpy/factors/discrete/DiscreteFactor.py:488: RuntimeWarning: invalid value encountered in divide\n",
            "  phi.values = phi.values / phi.values.sum()\n"
          ]
        }
      ],
      "source": [
        "# Query 4: Casey\n",
        "q4 = bp.query(variables=['class'], evidence=evidence_casey)\n",
        "\n",
        "# Print the result\n",
        "print(q4)"
      ]
    },
    {
      "cell_type": "code",
      "execution_count": 16,
      "metadata": {
        "colab": {
          "base_uri": "https://localhost:8080/"
        },
        "id": "fwSHRCHTbh0e",
        "outputId": "ee7301dd-8343-4a49-d873-884088a24836"
      },
      "outputs": [
        {
          "output_type": "stream",
          "name": "stdout",
          "text": [
            "+----------+--------------+\n",
            "| class    |   phi(class) |\n",
            "+==========+==============+\n",
            "| class(0) |       0.7416 |\n",
            "+----------+--------------+\n",
            "| class(1) |       0.2584 |\n",
            "+----------+--------------+\n"
          ]
        }
      ],
      "source": [
        "# Query 5: Blake\n",
        "q5 = bp.query(variables=['class'], evidence=evidence_blake)\n",
        "\n",
        "# Print the result\n",
        "print(q5)\n"
      ]
    },
    {
      "cell_type": "markdown",
      "metadata": {
        "id": "MGhtVp6Ybh0e"
      },
      "source": [
        "# Try Your Own Heart Disease Risk Predictions\n",
        "\n",
        "I've developed a predictive model that assesses the risk of heart disease based on various health indicators. To make this model accessible and interactive, we've created a user-friendly interface using Gradio. This tool allows you to input hypothetical patient scenarios and receive instant predictions on the likelihood of heart disease.\n",
        "\n",
        "### How to Use the Interface:\n",
        "* Input Data: Use the sliders and dropdown menus to enter health characteristics for a hypothetical patient. These characteristics include chest pain type, the presence of exercise-induced angina, resting electrocardiographic results, sex, thalassemia status, the slope of the peak exercise ST segment, and more.\n",
        "\n",
        "* View Predictions: After entering the data, the model will compute the probability distribution of heart disease presence (class 0 for absence and class 1 for presence) based on the input evidence.\n",
        "\n",
        "* Explore Different Scenarios: Feel free to adjust the inputs to explore how different health profiles affect the predicted risk of heart disease. This interactive exploration can provide insights into the factors that the model considers significant in assessing heart disease risk.\n"
      ]
    },
    {
      "cell_type": "code",
      "execution_count": 17,
      "metadata": {
        "colab": {
          "base_uri": "https://localhost:8080/",
          "height": 1000
        },
        "id": "539ocErQbh0e",
        "outputId": "62b31f5b-76e4-43a4-cf14-b6a374f5bc27"
      },
      "outputs": [
        {
          "output_type": "stream",
          "name": "stdout",
          "text": [
            "Requirement already satisfied: gradio==3.43.1 in /usr/local/lib/python3.10/dist-packages (3.43.1)\n",
            "Requirement already satisfied: aiofiles<24.0,>=22.0 in /usr/local/lib/python3.10/dist-packages (from gradio==3.43.1) (23.2.1)\n",
            "Requirement already satisfied: altair<6.0,>=4.2.0 in /usr/local/lib/python3.10/dist-packages (from gradio==3.43.1) (4.2.2)\n",
            "Requirement already satisfied: fastapi in /usr/local/lib/python3.10/dist-packages (from gradio==3.43.1) (0.110.0)\n",
            "Requirement already satisfied: ffmpy in /usr/local/lib/python3.10/dist-packages (from gradio==3.43.1) (0.3.2)\n",
            "Requirement already satisfied: gradio-client==0.5.0 in /usr/local/lib/python3.10/dist-packages (from gradio==3.43.1) (0.5.0)\n",
            "Requirement already satisfied: httpx in /usr/local/lib/python3.10/dist-packages (from gradio==3.43.1) (0.27.0)\n",
            "Requirement already satisfied: huggingface-hub>=0.14.0 in /usr/local/lib/python3.10/dist-packages (from gradio==3.43.1) (0.20.3)\n",
            "Requirement already satisfied: importlib-resources<7.0,>=1.3 in /usr/local/lib/python3.10/dist-packages (from gradio==3.43.1) (6.1.3)\n",
            "Requirement already satisfied: jinja2<4.0 in /usr/local/lib/python3.10/dist-packages (from gradio==3.43.1) (3.1.3)\n",
            "Requirement already satisfied: markupsafe~=2.0 in /usr/local/lib/python3.10/dist-packages (from gradio==3.43.1) (2.1.5)\n",
            "Requirement already satisfied: matplotlib~=3.0 in /usr/local/lib/python3.10/dist-packages (from gradio==3.43.1) (3.7.1)\n",
            "Requirement already satisfied: numpy~=1.0 in /usr/local/lib/python3.10/dist-packages (from gradio==3.43.1) (1.25.2)\n",
            "Requirement already satisfied: orjson~=3.0 in /usr/local/lib/python3.10/dist-packages (from gradio==3.43.1) (3.9.15)\n",
            "Requirement already satisfied: packaging in /usr/local/lib/python3.10/dist-packages (from gradio==3.43.1) (24.0)\n",
            "Requirement already satisfied: pandas<3.0,>=1.0 in /usr/local/lib/python3.10/dist-packages (from gradio==3.43.1) (1.5.3)\n",
            "Requirement already satisfied: pillow<11.0,>=8.0 in /usr/local/lib/python3.10/dist-packages (from gradio==3.43.1) (9.4.0)\n",
            "Requirement already satisfied: pydantic!=1.8,!=1.8.1,!=2.0.0,!=2.0.1,<3.0.0,>=1.7.4 in /usr/local/lib/python3.10/dist-packages (from gradio==3.43.1) (2.6.3)\n",
            "Requirement already satisfied: pydub in /usr/local/lib/python3.10/dist-packages (from gradio==3.43.1) (0.25.1)\n",
            "Requirement already satisfied: python-multipart in /usr/local/lib/python3.10/dist-packages (from gradio==3.43.1) (0.0.9)\n",
            "Requirement already satisfied: pyyaml<7.0,>=5.0 in /usr/local/lib/python3.10/dist-packages (from gradio==3.43.1) (6.0.1)\n",
            "Requirement already satisfied: requests~=2.0 in /usr/local/lib/python3.10/dist-packages (from gradio==3.43.1) (2.31.0)\n",
            "Requirement already satisfied: semantic-version~=2.0 in /usr/local/lib/python3.10/dist-packages (from gradio==3.43.1) (2.10.0)\n",
            "Requirement already satisfied: typing-extensions~=4.0 in /usr/local/lib/python3.10/dist-packages (from gradio==3.43.1) (4.10.0)\n",
            "Requirement already satisfied: uvicorn>=0.14.0 in /usr/local/lib/python3.10/dist-packages (from gradio==3.43.1) (0.28.0)\n",
            "Requirement already satisfied: websockets<12.0,>=10.0 in /usr/local/lib/python3.10/dist-packages (from gradio==3.43.1) (11.0.3)\n",
            "Requirement already satisfied: fsspec in /usr/local/lib/python3.10/dist-packages (from gradio-client==0.5.0->gradio==3.43.1) (2023.6.0)\n",
            "Requirement already satisfied: entrypoints in /usr/local/lib/python3.10/dist-packages (from altair<6.0,>=4.2.0->gradio==3.43.1) (0.4)\n",
            "Requirement already satisfied: jsonschema>=3.0 in /usr/local/lib/python3.10/dist-packages (from altair<6.0,>=4.2.0->gradio==3.43.1) (4.19.2)\n",
            "Requirement already satisfied: toolz in /usr/local/lib/python3.10/dist-packages (from altair<6.0,>=4.2.0->gradio==3.43.1) (0.12.1)\n",
            "Requirement already satisfied: filelock in /usr/local/lib/python3.10/dist-packages (from huggingface-hub>=0.14.0->gradio==3.43.1) (3.13.1)\n",
            "Requirement already satisfied: tqdm>=4.42.1 in /usr/local/lib/python3.10/dist-packages (from huggingface-hub>=0.14.0->gradio==3.43.1) (4.66.2)\n",
            "Requirement already satisfied: contourpy>=1.0.1 in /usr/local/lib/python3.10/dist-packages (from matplotlib~=3.0->gradio==3.43.1) (1.2.0)\n",
            "Requirement already satisfied: cycler>=0.10 in /usr/local/lib/python3.10/dist-packages (from matplotlib~=3.0->gradio==3.43.1) (0.12.1)\n",
            "Requirement already satisfied: fonttools>=4.22.0 in /usr/local/lib/python3.10/dist-packages (from matplotlib~=3.0->gradio==3.43.1) (4.49.0)\n",
            "Requirement already satisfied: kiwisolver>=1.0.1 in /usr/local/lib/python3.10/dist-packages (from matplotlib~=3.0->gradio==3.43.1) (1.4.5)\n",
            "Requirement already satisfied: pyparsing>=2.3.1 in /usr/local/lib/python3.10/dist-packages (from matplotlib~=3.0->gradio==3.43.1) (3.1.2)\n",
            "Requirement already satisfied: python-dateutil>=2.7 in /usr/local/lib/python3.10/dist-packages (from matplotlib~=3.0->gradio==3.43.1) (2.8.2)\n",
            "Requirement already satisfied: pytz>=2020.1 in /usr/local/lib/python3.10/dist-packages (from pandas<3.0,>=1.0->gradio==3.43.1) (2023.4)\n",
            "Requirement already satisfied: annotated-types>=0.4.0 in /usr/local/lib/python3.10/dist-packages (from pydantic!=1.8,!=1.8.1,!=2.0.0,!=2.0.1,<3.0.0,>=1.7.4->gradio==3.43.1) (0.6.0)\n",
            "Requirement already satisfied: pydantic-core==2.16.3 in /usr/local/lib/python3.10/dist-packages (from pydantic!=1.8,!=1.8.1,!=2.0.0,!=2.0.1,<3.0.0,>=1.7.4->gradio==3.43.1) (2.16.3)\n",
            "Requirement already satisfied: charset-normalizer<4,>=2 in /usr/local/lib/python3.10/dist-packages (from requests~=2.0->gradio==3.43.1) (3.3.2)\n",
            "Requirement already satisfied: idna<4,>=2.5 in /usr/local/lib/python3.10/dist-packages (from requests~=2.0->gradio==3.43.1) (3.6)\n",
            "Requirement already satisfied: urllib3<3,>=1.21.1 in /usr/local/lib/python3.10/dist-packages (from requests~=2.0->gradio==3.43.1) (2.0.7)\n",
            "Requirement already satisfied: certifi>=2017.4.17 in /usr/local/lib/python3.10/dist-packages (from requests~=2.0->gradio==3.43.1) (2024.2.2)\n",
            "Requirement already satisfied: click>=7.0 in /usr/local/lib/python3.10/dist-packages (from uvicorn>=0.14.0->gradio==3.43.1) (8.1.7)\n",
            "Requirement already satisfied: h11>=0.8 in /usr/local/lib/python3.10/dist-packages (from uvicorn>=0.14.0->gradio==3.43.1) (0.14.0)\n",
            "Requirement already satisfied: starlette<0.37.0,>=0.36.3 in /usr/local/lib/python3.10/dist-packages (from fastapi->gradio==3.43.1) (0.36.3)\n",
            "Requirement already satisfied: anyio in /usr/local/lib/python3.10/dist-packages (from httpx->gradio==3.43.1) (3.7.1)\n",
            "Requirement already satisfied: httpcore==1.* in /usr/local/lib/python3.10/dist-packages (from httpx->gradio==3.43.1) (1.0.4)\n",
            "Requirement already satisfied: sniffio in /usr/local/lib/python3.10/dist-packages (from httpx->gradio==3.43.1) (1.3.1)\n",
            "Requirement already satisfied: attrs>=22.2.0 in /usr/local/lib/python3.10/dist-packages (from jsonschema>=3.0->altair<6.0,>=4.2.0->gradio==3.43.1) (23.2.0)\n",
            "Requirement already satisfied: jsonschema-specifications>=2023.03.6 in /usr/local/lib/python3.10/dist-packages (from jsonschema>=3.0->altair<6.0,>=4.2.0->gradio==3.43.1) (2023.12.1)\n",
            "Requirement already satisfied: referencing>=0.28.4 in /usr/local/lib/python3.10/dist-packages (from jsonschema>=3.0->altair<6.0,>=4.2.0->gradio==3.43.1) (0.33.0)\n",
            "Requirement already satisfied: rpds-py>=0.7.1 in /usr/local/lib/python3.10/dist-packages (from jsonschema>=3.0->altair<6.0,>=4.2.0->gradio==3.43.1) (0.18.0)\n",
            "Requirement already satisfied: six>=1.5 in /usr/local/lib/python3.10/dist-packages (from python-dateutil>=2.7->matplotlib~=3.0->gradio==3.43.1) (1.16.0)\n",
            "Requirement already satisfied: exceptiongroup in /usr/local/lib/python3.10/dist-packages (from anyio->httpx->gradio==3.43.1) (1.2.0)\n"
          ]
        },
        {
          "output_type": "stream",
          "name": "stderr",
          "text": [
            "<ipython-input-17-d3c00886a74e>:40: GradioDeprecationWarning: Usage of gradio.inputs is deprecated, and will not be supported in the future, please import your component from gradio.components\n",
            "  inputs=[gr.inputs.Slider(minimum=0, maximum=3, step=1, label='Chest Pain Type (cp)'),\n",
            "<ipython-input-17-d3c00886a74e>:40: GradioDeprecationWarning: `optional` parameter is deprecated, and it has no effect\n",
            "  inputs=[gr.inputs.Slider(minimum=0, maximum=3, step=1, label='Chest Pain Type (cp)'),\n",
            "<ipython-input-17-d3c00886a74e>:41: GradioDeprecationWarning: Usage of gradio.inputs is deprecated, and will not be supported in the future, please import your component from gradio.components\n",
            "  gr.inputs.Slider(minimum=0, maximum=1, step=1, label='Exercise-induced Angina (exang)'),\n",
            "<ipython-input-17-d3c00886a74e>:41: GradioDeprecationWarning: `optional` parameter is deprecated, and it has no effect\n",
            "  gr.inputs.Slider(minimum=0, maximum=1, step=1, label='Exercise-induced Angina (exang)'),\n",
            "<ipython-input-17-d3c00886a74e>:42: GradioDeprecationWarning: Usage of gradio.inputs is deprecated, and will not be supported in the future, please import your component from gradio.components\n",
            "  gr.inputs.Slider(minimum=0, maximum=2, step=1, label='Resting Electrocardiographic Results (restecg)'),\n",
            "<ipython-input-17-d3c00886a74e>:42: GradioDeprecationWarning: `optional` parameter is deprecated, and it has no effect\n",
            "  gr.inputs.Slider(minimum=0, maximum=2, step=1, label='Resting Electrocardiographic Results (restecg)'),\n",
            "<ipython-input-17-d3c00886a74e>:43: GradioDeprecationWarning: Usage of gradio.inputs is deprecated, and will not be supported in the future, please import your component from gradio.components\n",
            "  gr.inputs.Slider(minimum=0, maximum=1, step=1, label='Sex (sex)'),\n",
            "<ipython-input-17-d3c00886a74e>:43: GradioDeprecationWarning: `optional` parameter is deprecated, and it has no effect\n",
            "  gr.inputs.Slider(minimum=0, maximum=1, step=1, label='Sex (sex)'),\n",
            "<ipython-input-17-d3c00886a74e>:44: GradioDeprecationWarning: Usage of gradio.inputs is deprecated, and will not be supported in the future, please import your component from gradio.components\n",
            "  gr.inputs.Slider(minimum=0, maximum=3, step=1, label='Thalassemia (thal)'),\n",
            "<ipython-input-17-d3c00886a74e>:44: GradioDeprecationWarning: `optional` parameter is deprecated, and it has no effect\n",
            "  gr.inputs.Slider(minimum=0, maximum=3, step=1, label='Thalassemia (thal)'),\n",
            "<ipython-input-17-d3c00886a74e>:45: GradioDeprecationWarning: Usage of gradio.inputs is deprecated, and will not be supported in the future, please import your component from gradio.components\n",
            "  gr.inputs.Slider(minimum=0, maximum=2, step=1, label='Slope of Peak Exercise ST Segment (slope)'),\n",
            "<ipython-input-17-d3c00886a74e>:45: GradioDeprecationWarning: `optional` parameter is deprecated, and it has no effect\n",
            "  gr.inputs.Slider(minimum=0, maximum=2, step=1, label='Slope of Peak Exercise ST Segment (slope)'),\n",
            "<ipython-input-17-d3c00886a74e>:46: GradioDeprecationWarning: Usage of gradio.inputs is deprecated, and will not be supported in the future, please import your component from gradio.components\n",
            "  gr.inputs.Radio(['Young', 'Middle-aged', 'Elderly'], label='Age Group (age_binned)'),\n",
            "<ipython-input-17-d3c00886a74e>:46: GradioDeprecationWarning: `optional` parameter is deprecated, and it has no effect\n",
            "  gr.inputs.Radio(['Young', 'Middle-aged', 'Elderly'], label='Age Group (age_binned)'),\n",
            "<ipython-input-17-d3c00886a74e>:47: GradioDeprecationWarning: Usage of gradio.inputs is deprecated, and will not be supported in the future, please import your component from gradio.components\n",
            "  gr.inputs.Radio(['Low', 'Normal', 'High'], label='Resting Blood Pressure Group (trestbps_binned)'),\n",
            "<ipython-input-17-d3c00886a74e>:47: GradioDeprecationWarning: `optional` parameter is deprecated, and it has no effect\n",
            "  gr.inputs.Radio(['Low', 'Normal', 'High'], label='Resting Blood Pressure Group (trestbps_binned)'),\n",
            "<ipython-input-17-d3c00886a74e>:48: GradioDeprecationWarning: Usage of gradio.inputs is deprecated, and will not be supported in the future, please import your component from gradio.components\n",
            "  gr.inputs.Radio(['Desirable', 'Borderline high', 'High'], label='Cholesterol Group (chol_binned)'),\n",
            "<ipython-input-17-d3c00886a74e>:48: GradioDeprecationWarning: `optional` parameter is deprecated, and it has no effect\n",
            "  gr.inputs.Radio(['Desirable', 'Borderline high', 'High'], label='Cholesterol Group (chol_binned)'),\n",
            "<ipython-input-17-d3c00886a74e>:49: GradioDeprecationWarning: Usage of gradio.inputs is deprecated, and will not be supported in the future, please import your component from gradio.components\n",
            "  gr.inputs.Radio(['Below Average', 'Average', 'Above Average'], label='Maximum Heart Rate Achieved Group (thalach_binned)'),\n",
            "<ipython-input-17-d3c00886a74e>:49: GradioDeprecationWarning: `optional` parameter is deprecated, and it has no effect\n",
            "  gr.inputs.Radio(['Below Average', 'Average', 'Above Average'], label='Maximum Heart Rate Achieved Group (thalach_binned)'),\n",
            "<ipython-input-17-d3c00886a74e>:50: GradioDeprecationWarning: Usage of gradio.inputs is deprecated, and will not be supported in the future, please import your component from gradio.components\n",
            "  gr.inputs.Radio(['Minimal', 'Moderate', 'Severe'], label='ST Depression Group (oldpeak_binned)'),\n",
            "<ipython-input-17-d3c00886a74e>:50: GradioDeprecationWarning: `optional` parameter is deprecated, and it has no effect\n",
            "  gr.inputs.Radio(['Minimal', 'Moderate', 'Severe'], label='ST Depression Group (oldpeak_binned)'),\n",
            "<ipython-input-17-d3c00886a74e>:51: GradioDeprecationWarning: Usage of gradio.inputs is deprecated, and will not be supported in the future, please import your component from gradio.components\n",
            "  gr.inputs.Slider(minimum=0, maximum=3, step=1, label='Number of Major Vessels Colored by Fluoroscopy (ca)')],\n",
            "<ipython-input-17-d3c00886a74e>:51: GradioDeprecationWarning: `optional` parameter is deprecated, and it has no effect\n",
            "  gr.inputs.Slider(minimum=0, maximum=3, step=1, label='Number of Major Vessels Colored by Fluoroscopy (ca)')],\n",
            "<ipython-input-17-d3c00886a74e>:52: GradioDeprecationWarning: Usage of gradio.outputs is deprecated, and will not be supported in the future, please import your components from gradio.components\n",
            "  outputs=gr.outputs.Label(num_top_classes=2))\n",
            "<ipython-input-17-d3c00886a74e>:52: GradioUnusedKwargWarning: You have unused kwarg parameters in Label, please remove them: {'type': 'auto'}\n",
            "  outputs=gr.outputs.Label(num_top_classes=2))\n"
          ]
        },
        {
          "output_type": "stream",
          "name": "stdout",
          "text": [
            "Colab notebook detected. To show errors in colab notebook, set debug=True in launch()\n",
            "Running on public URL: https://43d5696de1fc9e61dd.gradio.live\n",
            "\n",
            "This share link expires in 72 hours. For free permanent hosting and GPU upgrades, run `gradio deploy` from Terminal to deploy to Spaces (https://huggingface.co/spaces)\n"
          ]
        },
        {
          "output_type": "display_data",
          "data": {
            "text/plain": [
              "<IPython.core.display.HTML object>"
            ],
            "text/html": [
              "<div><iframe src=\"https://43d5696de1fc9e61dd.gradio.live\" width=\"100%\" height=\"500\" allow=\"autoplay; camera; microphone; clipboard-read; clipboard-write;\" frameborder=\"0\" allowfullscreen></iframe></div>"
            ]
          },
          "metadata": {}
        },
        {
          "output_type": "execute_result",
          "data": {
            "text/plain": []
          },
          "metadata": {},
          "execution_count": 17
        }
      ],
      "source": [
        "!pip install gradio==3.43.1\n",
        "import gradio as gr\n",
        "from pgmpy.inference import VariableElimination\n",
        "\n",
        "# Define the prediction function with arguments for all variables\n",
        "def predict_class_probability(cp, exang, restecg, sex, thal, slope, age_binned, trestbps_binned, chol_binned, thalach_binned, oldpeak_binned, ca):\n",
        "    evidence = {\n",
        "        'cp': cp,\n",
        "        'exang': exang,\n",
        "        'restecg': restecg,\n",
        "        'sex': sex,\n",
        "        'thal': thal,\n",
        "        'slope': slope,\n",
        "        'age_binned': age_binned,\n",
        "        'trestbps_binned': trestbps_binned,\n",
        "        'chol_binned': chol_binned,\n",
        "        'thalach_binned': thalach_binned,\n",
        "        'oldpeak_binned': oldpeak_binned,\n",
        "        'ca': ca\n",
        "    }\n",
        "\n",
        "    # Create an inference object\n",
        "    infer = VariableElimination(model)\n",
        "\n",
        "    # Query the probability distribution of heart disease class given the evidence\n",
        "    prob_class = infer.query(variables=['class'], evidence=evidence).values.flatten()\n",
        "\n",
        "    # Normalize probabilities\n",
        "    prob_class_normalized = prob_class / prob_class.sum()\n",
        "\n",
        "    assert prob_class_normalized.sum() == 1, 'Probabilities do not sum to 1'\n",
        "\n",
        "\n",
        "    class_probabilities = {f'Class {idx}': prob for idx, prob in enumerate(prob_class_normalized)}\n",
        "\n",
        "    return class_probabilities\n",
        "\n",
        "# Create the Gradio interface with sliders for numerical variables and dropdowns for categorical variables\n",
        "interface = gr.Interface(fn=predict_class_probability,\n",
        "                         inputs=[gr.inputs.Slider(minimum=0, maximum=3, step=1, label='Chest Pain Type (cp)'),\n",
        "                                 gr.inputs.Slider(minimum=0, maximum=1, step=1, label='Exercise-induced Angina (exang)'),\n",
        "                                 gr.inputs.Slider(minimum=0, maximum=2, step=1, label='Resting Electrocardiographic Results (restecg)'),\n",
        "                                 gr.inputs.Slider(minimum=0, maximum=1, step=1, label='Sex (sex)'),\n",
        "                                 gr.inputs.Slider(minimum=0, maximum=3, step=1, label='Thalassemia (thal)'),\n",
        "                                 gr.inputs.Slider(minimum=0, maximum=2, step=1, label='Slope of Peak Exercise ST Segment (slope)'),\n",
        "                                 gr.inputs.Radio(['Young', 'Middle-aged', 'Elderly'], label='Age Group (age_binned)'),\n",
        "                                 gr.inputs.Radio(['Low', 'Normal', 'High'], label='Resting Blood Pressure Group (trestbps_binned)'),\n",
        "                                 gr.inputs.Radio(['Desirable', 'Borderline high', 'High'], label='Cholesterol Group (chol_binned)'),\n",
        "                                 gr.inputs.Radio(['Below Average', 'Average', 'Above Average'], label='Maximum Heart Rate Achieved Group (thalach_binned)'),\n",
        "                                 gr.inputs.Radio(['Minimal', 'Moderate', 'Severe'], label='ST Depression Group (oldpeak_binned)'),\n",
        "                                 gr.inputs.Slider(minimum=0, maximum=3, step=1, label='Number of Major Vessels Colored by Fluoroscopy (ca)')],\n",
        "                         outputs=gr.outputs.Label(num_top_classes=2))\n",
        "\n",
        "# Launch the interface\n",
        "interface.launch(share=True)\n"
      ]
    }
  ],
  "metadata": {
    "colab": {
      "provenance": []
    },
    "kernelspec": {
      "display_name": "Python 3",
      "language": "python",
      "name": "python3"
    },
    "language_info": {
      "codemirror_mode": {
        "name": "ipython",
        "version": 3
      },
      "file_extension": ".py",
      "mimetype": "text/x-python",
      "name": "python",
      "nbconvert_exporter": "python",
      "pygments_lexer": "ipython3",
      "version": "3.9.6"
    },
    "widgets": {
      "application/vnd.jupyter.widget-state+json": {
        "f62a46886f374e4bb56e9b4715ab7095": {
          "model_module": "@jupyter-widgets/controls",
          "model_name": "HBoxModel",
          "model_module_version": "1.5.0",
          "state": {
            "_dom_classes": [],
            "_model_module": "@jupyter-widgets/controls",
            "_model_module_version": "1.5.0",
            "_model_name": "HBoxModel",
            "_view_count": null,
            "_view_module": "@jupyter-widgets/controls",
            "_view_module_version": "1.5.0",
            "_view_name": "HBoxView",
            "box_style": "",
            "children": [
              "IPY_MODEL_053c6472eb5b497681501d1fa3a5b133",
              "IPY_MODEL_fb5f4f794b5141aea0a593204d7bcac3",
              "IPY_MODEL_fd1e86dc0ecb4ffd8199ec03d74802bd"
            ],
            "layout": "IPY_MODEL_7bf82885a8094eecab9a42964e7463fa"
          }
        },
        "053c6472eb5b497681501d1fa3a5b133": {
          "model_module": "@jupyter-widgets/controls",
          "model_name": "HTMLModel",
          "model_module_version": "1.5.0",
          "state": {
            "_dom_classes": [],
            "_model_module": "@jupyter-widgets/controls",
            "_model_module_version": "1.5.0",
            "_model_name": "HTMLModel",
            "_view_count": null,
            "_view_module": "@jupyter-widgets/controls",
            "_view_module_version": "1.5.0",
            "_view_name": "HTMLView",
            "description": "",
            "description_tooltip": null,
            "layout": "IPY_MODEL_4af08efe1ee44fab9c8948437ddf2049",
            "placeholder": "​",
            "style": "IPY_MODEL_7a91be822bfc4aa99090ac8e7f55081c",
            "value": "  0%"
          }
        },
        "fb5f4f794b5141aea0a593204d7bcac3": {
          "model_module": "@jupyter-widgets/controls",
          "model_name": "FloatProgressModel",
          "model_module_version": "1.5.0",
          "state": {
            "_dom_classes": [],
            "_model_module": "@jupyter-widgets/controls",
            "_model_module_version": "1.5.0",
            "_model_name": "FloatProgressModel",
            "_view_count": null,
            "_view_module": "@jupyter-widgets/controls",
            "_view_module_version": "1.5.0",
            "_view_name": "ProgressView",
            "bar_style": "danger",
            "description": "",
            "description_tooltip": null,
            "layout": "IPY_MODEL_d96269a7a2324ac2a5b7bca28417ea84",
            "max": 1000000,
            "min": 0,
            "orientation": "horizontal",
            "style": "IPY_MODEL_32009d38ae464181abc535d74efc2888",
            "value": 20
          }
        },
        "fd1e86dc0ecb4ffd8199ec03d74802bd": {
          "model_module": "@jupyter-widgets/controls",
          "model_name": "HTMLModel",
          "model_module_version": "1.5.0",
          "state": {
            "_dom_classes": [],
            "_model_module": "@jupyter-widgets/controls",
            "_model_module_version": "1.5.0",
            "_model_name": "HTMLModel",
            "_view_count": null,
            "_view_module": "@jupyter-widgets/controls",
            "_view_module_version": "1.5.0",
            "_view_name": "HTMLView",
            "description": "",
            "description_tooltip": null,
            "layout": "IPY_MODEL_39256b85eae540fa9c189bb901983cf2",
            "placeholder": "​",
            "style": "IPY_MODEL_0690ac1e32be417c8078f190a9261599",
            "value": " 20/1000000 [00:02&lt;19:43:36, 14.08it/s]"
          }
        },
        "7bf82885a8094eecab9a42964e7463fa": {
          "model_module": "@jupyter-widgets/base",
          "model_name": "LayoutModel",
          "model_module_version": "1.2.0",
          "state": {
            "_model_module": "@jupyter-widgets/base",
            "_model_module_version": "1.2.0",
            "_model_name": "LayoutModel",
            "_view_count": null,
            "_view_module": "@jupyter-widgets/base",
            "_view_module_version": "1.2.0",
            "_view_name": "LayoutView",
            "align_content": null,
            "align_items": null,
            "align_self": null,
            "border": null,
            "bottom": null,
            "display": null,
            "flex": null,
            "flex_flow": null,
            "grid_area": null,
            "grid_auto_columns": null,
            "grid_auto_flow": null,
            "grid_auto_rows": null,
            "grid_column": null,
            "grid_gap": null,
            "grid_row": null,
            "grid_template_areas": null,
            "grid_template_columns": null,
            "grid_template_rows": null,
            "height": null,
            "justify_content": null,
            "justify_items": null,
            "left": null,
            "margin": null,
            "max_height": null,
            "max_width": null,
            "min_height": null,
            "min_width": null,
            "object_fit": null,
            "object_position": null,
            "order": null,
            "overflow": null,
            "overflow_x": null,
            "overflow_y": null,
            "padding": null,
            "right": null,
            "top": null,
            "visibility": null,
            "width": null
          }
        },
        "4af08efe1ee44fab9c8948437ddf2049": {
          "model_module": "@jupyter-widgets/base",
          "model_name": "LayoutModel",
          "model_module_version": "1.2.0",
          "state": {
            "_model_module": "@jupyter-widgets/base",
            "_model_module_version": "1.2.0",
            "_model_name": "LayoutModel",
            "_view_count": null,
            "_view_module": "@jupyter-widgets/base",
            "_view_module_version": "1.2.0",
            "_view_name": "LayoutView",
            "align_content": null,
            "align_items": null,
            "align_self": null,
            "border": null,
            "bottom": null,
            "display": null,
            "flex": null,
            "flex_flow": null,
            "grid_area": null,
            "grid_auto_columns": null,
            "grid_auto_flow": null,
            "grid_auto_rows": null,
            "grid_column": null,
            "grid_gap": null,
            "grid_row": null,
            "grid_template_areas": null,
            "grid_template_columns": null,
            "grid_template_rows": null,
            "height": null,
            "justify_content": null,
            "justify_items": null,
            "left": null,
            "margin": null,
            "max_height": null,
            "max_width": null,
            "min_height": null,
            "min_width": null,
            "object_fit": null,
            "object_position": null,
            "order": null,
            "overflow": null,
            "overflow_x": null,
            "overflow_y": null,
            "padding": null,
            "right": null,
            "top": null,
            "visibility": null,
            "width": null
          }
        },
        "7a91be822bfc4aa99090ac8e7f55081c": {
          "model_module": "@jupyter-widgets/controls",
          "model_name": "DescriptionStyleModel",
          "model_module_version": "1.5.0",
          "state": {
            "_model_module": "@jupyter-widgets/controls",
            "_model_module_version": "1.5.0",
            "_model_name": "DescriptionStyleModel",
            "_view_count": null,
            "_view_module": "@jupyter-widgets/base",
            "_view_module_version": "1.2.0",
            "_view_name": "StyleView",
            "description_width": ""
          }
        },
        "d96269a7a2324ac2a5b7bca28417ea84": {
          "model_module": "@jupyter-widgets/base",
          "model_name": "LayoutModel",
          "model_module_version": "1.2.0",
          "state": {
            "_model_module": "@jupyter-widgets/base",
            "_model_module_version": "1.2.0",
            "_model_name": "LayoutModel",
            "_view_count": null,
            "_view_module": "@jupyter-widgets/base",
            "_view_module_version": "1.2.0",
            "_view_name": "LayoutView",
            "align_content": null,
            "align_items": null,
            "align_self": null,
            "border": null,
            "bottom": null,
            "display": null,
            "flex": null,
            "flex_flow": null,
            "grid_area": null,
            "grid_auto_columns": null,
            "grid_auto_flow": null,
            "grid_auto_rows": null,
            "grid_column": null,
            "grid_gap": null,
            "grid_row": null,
            "grid_template_areas": null,
            "grid_template_columns": null,
            "grid_template_rows": null,
            "height": null,
            "justify_content": null,
            "justify_items": null,
            "left": null,
            "margin": null,
            "max_height": null,
            "max_width": null,
            "min_height": null,
            "min_width": null,
            "object_fit": null,
            "object_position": null,
            "order": null,
            "overflow": null,
            "overflow_x": null,
            "overflow_y": null,
            "padding": null,
            "right": null,
            "top": null,
            "visibility": null,
            "width": null
          }
        },
        "32009d38ae464181abc535d74efc2888": {
          "model_module": "@jupyter-widgets/controls",
          "model_name": "ProgressStyleModel",
          "model_module_version": "1.5.0",
          "state": {
            "_model_module": "@jupyter-widgets/controls",
            "_model_module_version": "1.5.0",
            "_model_name": "ProgressStyleModel",
            "_view_count": null,
            "_view_module": "@jupyter-widgets/base",
            "_view_module_version": "1.2.0",
            "_view_name": "StyleView",
            "bar_color": null,
            "description_width": ""
          }
        },
        "39256b85eae540fa9c189bb901983cf2": {
          "model_module": "@jupyter-widgets/base",
          "model_name": "LayoutModel",
          "model_module_version": "1.2.0",
          "state": {
            "_model_module": "@jupyter-widgets/base",
            "_model_module_version": "1.2.0",
            "_model_name": "LayoutModel",
            "_view_count": null,
            "_view_module": "@jupyter-widgets/base",
            "_view_module_version": "1.2.0",
            "_view_name": "LayoutView",
            "align_content": null,
            "align_items": null,
            "align_self": null,
            "border": null,
            "bottom": null,
            "display": null,
            "flex": null,
            "flex_flow": null,
            "grid_area": null,
            "grid_auto_columns": null,
            "grid_auto_flow": null,
            "grid_auto_rows": null,
            "grid_column": null,
            "grid_gap": null,
            "grid_row": null,
            "grid_template_areas": null,
            "grid_template_columns": null,
            "grid_template_rows": null,
            "height": null,
            "justify_content": null,
            "justify_items": null,
            "left": null,
            "margin": null,
            "max_height": null,
            "max_width": null,
            "min_height": null,
            "min_width": null,
            "object_fit": null,
            "object_position": null,
            "order": null,
            "overflow": null,
            "overflow_x": null,
            "overflow_y": null,
            "padding": null,
            "right": null,
            "top": null,
            "visibility": null,
            "width": null
          }
        },
        "0690ac1e32be417c8078f190a9261599": {
          "model_module": "@jupyter-widgets/controls",
          "model_name": "DescriptionStyleModel",
          "model_module_version": "1.5.0",
          "state": {
            "_model_module": "@jupyter-widgets/controls",
            "_model_module_version": "1.5.0",
            "_model_name": "DescriptionStyleModel",
            "_view_count": null,
            "_view_module": "@jupyter-widgets/base",
            "_view_module_version": "1.2.0",
            "_view_name": "StyleView",
            "description_width": ""
          }
        },
        "2c5c775fb232440795f56afde1c0df2c": {
          "model_module": "@jupyter-widgets/controls",
          "model_name": "HBoxModel",
          "model_module_version": "1.5.0",
          "state": {
            "_dom_classes": [],
            "_model_module": "@jupyter-widgets/controls",
            "_model_module_version": "1.5.0",
            "_model_name": "HBoxModel",
            "_view_count": null,
            "_view_module": "@jupyter-widgets/controls",
            "_view_module_version": "1.5.0",
            "_view_name": "HBoxView",
            "box_style": "",
            "children": [
              "IPY_MODEL_05d504f039b741fa8aab7516719d67e8",
              "IPY_MODEL_37e9814d4c96446f94123cbf1aa5c3f2",
              "IPY_MODEL_b74b3dfd002d432894282a50ec7ffe66"
            ],
            "layout": "IPY_MODEL_511eaf71b0584f479d29614994b15e50"
          }
        },
        "05d504f039b741fa8aab7516719d67e8": {
          "model_module": "@jupyter-widgets/controls",
          "model_name": "HTMLModel",
          "model_module_version": "1.5.0",
          "state": {
            "_dom_classes": [],
            "_model_module": "@jupyter-widgets/controls",
            "_model_module_version": "1.5.0",
            "_model_name": "HTMLModel",
            "_view_count": null,
            "_view_module": "@jupyter-widgets/controls",
            "_view_module_version": "1.5.0",
            "_view_name": "HTMLView",
            "description": "",
            "description_tooltip": null,
            "layout": "IPY_MODEL_445a5304c6c849faac3d0f0ed42402d7",
            "placeholder": "​",
            "style": "IPY_MODEL_01e1d188648a44258eaafd5d9e4f7bdf",
            "value": "Generating for node: fbs: 100%"
          }
        },
        "37e9814d4c96446f94123cbf1aa5c3f2": {
          "model_module": "@jupyter-widgets/controls",
          "model_name": "FloatProgressModel",
          "model_module_version": "1.5.0",
          "state": {
            "_dom_classes": [],
            "_model_module": "@jupyter-widgets/controls",
            "_model_module_version": "1.5.0",
            "_model_name": "FloatProgressModel",
            "_view_count": null,
            "_view_module": "@jupyter-widgets/controls",
            "_view_module_version": "1.5.0",
            "_view_name": "ProgressView",
            "bar_style": "success",
            "description": "",
            "description_tooltip": null,
            "layout": "IPY_MODEL_8880035be7f34250b7a11260a151bb66",
            "max": 14,
            "min": 0,
            "orientation": "horizontal",
            "style": "IPY_MODEL_ac1a3e39720c4df78a3bfab969acff1b",
            "value": 14
          }
        },
        "b74b3dfd002d432894282a50ec7ffe66": {
          "model_module": "@jupyter-widgets/controls",
          "model_name": "HTMLModel",
          "model_module_version": "1.5.0",
          "state": {
            "_dom_classes": [],
            "_model_module": "@jupyter-widgets/controls",
            "_model_module_version": "1.5.0",
            "_model_name": "HTMLModel",
            "_view_count": null,
            "_view_module": "@jupyter-widgets/controls",
            "_view_module_version": "1.5.0",
            "_view_name": "HTMLView",
            "description": "",
            "description_tooltip": null,
            "layout": "IPY_MODEL_a7247a5e361941faabd08dfe8c0d0607",
            "placeholder": "​",
            "style": "IPY_MODEL_7b558b00d0ee40b0854b950e78bfcbd0",
            "value": " 14/14 [00:00&lt;00:00, 23.54it/s]"
          }
        },
        "511eaf71b0584f479d29614994b15e50": {
          "model_module": "@jupyter-widgets/base",
          "model_name": "LayoutModel",
          "model_module_version": "1.2.0",
          "state": {
            "_model_module": "@jupyter-widgets/base",
            "_model_module_version": "1.2.0",
            "_model_name": "LayoutModel",
            "_view_count": null,
            "_view_module": "@jupyter-widgets/base",
            "_view_module_version": "1.2.0",
            "_view_name": "LayoutView",
            "align_content": null,
            "align_items": null,
            "align_self": null,
            "border": null,
            "bottom": null,
            "display": null,
            "flex": null,
            "flex_flow": null,
            "grid_area": null,
            "grid_auto_columns": null,
            "grid_auto_flow": null,
            "grid_auto_rows": null,
            "grid_column": null,
            "grid_gap": null,
            "grid_row": null,
            "grid_template_areas": null,
            "grid_template_columns": null,
            "grid_template_rows": null,
            "height": null,
            "justify_content": null,
            "justify_items": null,
            "left": null,
            "margin": null,
            "max_height": null,
            "max_width": null,
            "min_height": null,
            "min_width": null,
            "object_fit": null,
            "object_position": null,
            "order": null,
            "overflow": null,
            "overflow_x": null,
            "overflow_y": null,
            "padding": null,
            "right": null,
            "top": null,
            "visibility": null,
            "width": null
          }
        },
        "445a5304c6c849faac3d0f0ed42402d7": {
          "model_module": "@jupyter-widgets/base",
          "model_name": "LayoutModel",
          "model_module_version": "1.2.0",
          "state": {
            "_model_module": "@jupyter-widgets/base",
            "_model_module_version": "1.2.0",
            "_model_name": "LayoutModel",
            "_view_count": null,
            "_view_module": "@jupyter-widgets/base",
            "_view_module_version": "1.2.0",
            "_view_name": "LayoutView",
            "align_content": null,
            "align_items": null,
            "align_self": null,
            "border": null,
            "bottom": null,
            "display": null,
            "flex": null,
            "flex_flow": null,
            "grid_area": null,
            "grid_auto_columns": null,
            "grid_auto_flow": null,
            "grid_auto_rows": null,
            "grid_column": null,
            "grid_gap": null,
            "grid_row": null,
            "grid_template_areas": null,
            "grid_template_columns": null,
            "grid_template_rows": null,
            "height": null,
            "justify_content": null,
            "justify_items": null,
            "left": null,
            "margin": null,
            "max_height": null,
            "max_width": null,
            "min_height": null,
            "min_width": null,
            "object_fit": null,
            "object_position": null,
            "order": null,
            "overflow": null,
            "overflow_x": null,
            "overflow_y": null,
            "padding": null,
            "right": null,
            "top": null,
            "visibility": null,
            "width": null
          }
        },
        "01e1d188648a44258eaafd5d9e4f7bdf": {
          "model_module": "@jupyter-widgets/controls",
          "model_name": "DescriptionStyleModel",
          "model_module_version": "1.5.0",
          "state": {
            "_model_module": "@jupyter-widgets/controls",
            "_model_module_version": "1.5.0",
            "_model_name": "DescriptionStyleModel",
            "_view_count": null,
            "_view_module": "@jupyter-widgets/base",
            "_view_module_version": "1.2.0",
            "_view_name": "StyleView",
            "description_width": ""
          }
        },
        "8880035be7f34250b7a11260a151bb66": {
          "model_module": "@jupyter-widgets/base",
          "model_name": "LayoutModel",
          "model_module_version": "1.2.0",
          "state": {
            "_model_module": "@jupyter-widgets/base",
            "_model_module_version": "1.2.0",
            "_model_name": "LayoutModel",
            "_view_count": null,
            "_view_module": "@jupyter-widgets/base",
            "_view_module_version": "1.2.0",
            "_view_name": "LayoutView",
            "align_content": null,
            "align_items": null,
            "align_self": null,
            "border": null,
            "bottom": null,
            "display": null,
            "flex": null,
            "flex_flow": null,
            "grid_area": null,
            "grid_auto_columns": null,
            "grid_auto_flow": null,
            "grid_auto_rows": null,
            "grid_column": null,
            "grid_gap": null,
            "grid_row": null,
            "grid_template_areas": null,
            "grid_template_columns": null,
            "grid_template_rows": null,
            "height": null,
            "justify_content": null,
            "justify_items": null,
            "left": null,
            "margin": null,
            "max_height": null,
            "max_width": null,
            "min_height": null,
            "min_width": null,
            "object_fit": null,
            "object_position": null,
            "order": null,
            "overflow": null,
            "overflow_x": null,
            "overflow_y": null,
            "padding": null,
            "right": null,
            "top": null,
            "visibility": null,
            "width": null
          }
        },
        "ac1a3e39720c4df78a3bfab969acff1b": {
          "model_module": "@jupyter-widgets/controls",
          "model_name": "ProgressStyleModel",
          "model_module_version": "1.5.0",
          "state": {
            "_model_module": "@jupyter-widgets/controls",
            "_model_module_version": "1.5.0",
            "_model_name": "ProgressStyleModel",
            "_view_count": null,
            "_view_module": "@jupyter-widgets/base",
            "_view_module_version": "1.2.0",
            "_view_name": "StyleView",
            "bar_color": null,
            "description_width": ""
          }
        },
        "a7247a5e361941faabd08dfe8c0d0607": {
          "model_module": "@jupyter-widgets/base",
          "model_name": "LayoutModel",
          "model_module_version": "1.2.0",
          "state": {
            "_model_module": "@jupyter-widgets/base",
            "_model_module_version": "1.2.0",
            "_model_name": "LayoutModel",
            "_view_count": null,
            "_view_module": "@jupyter-widgets/base",
            "_view_module_version": "1.2.0",
            "_view_name": "LayoutView",
            "align_content": null,
            "align_items": null,
            "align_self": null,
            "border": null,
            "bottom": null,
            "display": null,
            "flex": null,
            "flex_flow": null,
            "grid_area": null,
            "grid_auto_columns": null,
            "grid_auto_flow": null,
            "grid_auto_rows": null,
            "grid_column": null,
            "grid_gap": null,
            "grid_row": null,
            "grid_template_areas": null,
            "grid_template_columns": null,
            "grid_template_rows": null,
            "height": null,
            "justify_content": null,
            "justify_items": null,
            "left": null,
            "margin": null,
            "max_height": null,
            "max_width": null,
            "min_height": null,
            "min_width": null,
            "object_fit": null,
            "object_position": null,
            "order": null,
            "overflow": null,
            "overflow_x": null,
            "overflow_y": null,
            "padding": null,
            "right": null,
            "top": null,
            "visibility": null,
            "width": null
          }
        },
        "7b558b00d0ee40b0854b950e78bfcbd0": {
          "model_module": "@jupyter-widgets/controls",
          "model_name": "DescriptionStyleModel",
          "model_module_version": "1.5.0",
          "state": {
            "_model_module": "@jupyter-widgets/controls",
            "_model_module_version": "1.5.0",
            "_model_name": "DescriptionStyleModel",
            "_view_count": null,
            "_view_module": "@jupyter-widgets/base",
            "_view_module_version": "1.2.0",
            "_view_name": "StyleView",
            "description_width": ""
          }
        }
      }
    }
  },
  "nbformat": 4,
  "nbformat_minor": 0
}