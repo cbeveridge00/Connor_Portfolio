{
  "cells": [
    {
      "cell_type": "markdown",
      "id": "489b2ece-0cca-4573-9966-3c1c0ee41823",
      "metadata": {
        "id": "489b2ece-0cca-4573-9966-3c1c0ee41823",
        "tags": []
      },
      "source": [
        "# Comparison of basic vs. improved CNN models"
      ]
    },
    {
      "cell_type": "code",
      "execution_count": null,
      "id": "6932a234-3a58-4d8d-b8b9-f47129d1a614",
      "metadata": {
        "id": "6932a234-3a58-4d8d-b8b9-f47129d1a614"
      },
      "outputs": [],
      "source": [
        "# Necessary Imports\n",
        "import os\n",
        "import zipfile\n",
        "import warnings\n",
        "import pandas as pd\n",
        "import numpy as np\n",
        "import matplotlib.pyplot as plt\n",
        "import tensorflow as tf\n",
        "\n",
        "from tensorflow.keras.models import Sequential\n",
        "from tensorflow.keras.layers import (Input, Conv2D, Dense, Flatten, Dropout,\n",
        "                                     BatchNormalization, MaxPooling2D, GlobalMaxPooling2D)\n",
        "from tensorflow.keras.utils import to_categorical\n",
        "from tensorflow.keras.datasets import cifar10\n",
        "from tensorflow.keras.preprocessing.image import load_img, img_to_array\n",
        "from sklearn.metrics import accuracy_score\n",
        "\n",
        "# Avoid unwanted warnings\n",
        "warnings.filterwarnings('ignore')"
      ]
    },
    {
      "cell_type": "markdown",
      "id": "1a900ff1-93a4-4bd8-a98f-dc46c8735941",
      "metadata": {
        "id": "1a900ff1-93a4-4bd8-a98f-dc46c8735941"
      },
      "source": [
        "# Training a CNN on a dataset\n",
        "\n",
        "About the dataset:\n",
        "\n",
        "In CIFAR-10, there are 60000, 32x32 color images from these 10 classes, with 6000 images from each class. The training dataset contains 50,000 training images and the test dataset contains 10000 test images.\n",
        "<br><br>\n",
        "The dataset images are of color images with a (32 x 32) resolution. All the images in the dataset are of shape (32,32,3) where 3 represents the number of channels i.e R-G-B (Red,Green & Blue).\n",
        "\n",
        "<img src=\"https://production-media.paperswithcode.com/datasets/4fdf2b82-2bc3-4f97-ba51-400322b228b1.png\" align=\"center\">\n"
      ]
    },
    {
      "cell_type": "markdown",
      "id": "db13f156-f068-4223-bdb5-312cb8ae2670",
      "metadata": {
        "id": "db13f156-f068-4223-bdb5-312cb8ae2670"
      },
      "source": [
        "### <h3 style=\"background-color:#0071c5;color:white;text-align: center;padding-top: 5px;padding-bottom: 5px;border-radius: 15px 50px;\"><strong><centre>Importing Libraries & Packages 📚 </centre></strong></h3>"
      ]
    },
    {
      "cell_type": "code",
      "execution_count": null,
      "id": "916fe3dc-72dc-48d2-9721-92e2944d8d1d",
      "metadata": {
        "id": "916fe3dc-72dc-48d2-9721-92e2944d8d1d",
        "tags": []
      },
      "outputs": [],
      "source": [
        "# getting started with the model\n",
        "# importing required libraries/packages\n",
        "import pandas as pd\n",
        "import numpy as np\n",
        "import matplotlib.pyplot as plt\n",
        "%matplotlib inline\n",
        "\n",
        "import tensorflow as tf\n",
        "\n",
        "\n",
        "# Imports related to different layers that are to be included in CNN\n",
        "from tensorflow.keras.models import Sequential\n",
        "from tensorflow.keras.layers import Input, Conv2D, Dense, Flatten\n",
        "from tensorflow.keras.layers import GlobalMaxPooling2D, MaxPooling2D\n",
        "from tensorflow.keras.layers import BatchNormalization\n",
        "from tensorflow.keras.models import Model\n",
        "from tensorflow.keras import regularizers, optimizers\n",
        "from tensorflow.keras.utils import to_categorical\n",
        "from sklearn.metrics import accuracy_score\n",
        "\n",
        "# to ignore unwanted warnings\n",
        "import warnings\n",
        "warnings.filterwarnings('ignore')\n",
        "\n"
      ]
    },
    {
      "cell_type": "markdown",
      "id": "ac8b6c11-69e0-4de2-9543-8dff1094063a",
      "metadata": {
        "id": "ac8b6c11-69e0-4de2-9543-8dff1094063a",
        "tags": []
      },
      "source": [
        "### <h3 style=\"background-color:#0071c5;color:white;text-align: center;padding-top: 5px;padding-bottom: 5px;border-radius: 15px 50px;\"><strong><centre> Importing & Reading the dataset </centre></strong></h3>"
      ]
    },
    {
      "cell_type": "markdown",
      "id": "e977f171-1f1a-41bd-95dc-cb0a54faa040",
      "metadata": {
        "id": "e977f171-1f1a-41bd-95dc-cb0a54faa040"
      },
      "source": [
        "The keras module has inbuilt datasets and cifar-10 is one among them. So we can simply import the dataset from keras"
      ]
    },
    {
      "cell_type": "code",
      "execution_count": null,
      "id": "2209aca1-7b5b-43b2-9c08-b3f6a6a513f4",
      "metadata": {
        "id": "2209aca1-7b5b-43b2-9c08-b3f6a6a513f4",
        "tags": []
      },
      "outputs": [],
      "source": [
        "# importing the cifar dataset\n",
        "(X_train, Y_train), (X_test, Y_test) = cifar10.load_data()"
      ]
    },
    {
      "cell_type": "code",
      "execution_count": null,
      "id": "19c33f68-ec5d-4837-b218-b41f0966c662",
      "metadata": {
        "id": "19c33f68-ec5d-4837-b218-b41f0966c662",
        "tags": [],
        "colab": {
          "base_uri": "https://localhost:8080/"
        },
        "outputId": "0d5543f2-b17f-4fdf-9575-6711988e6b5c"
      },
      "outputs": [
        {
          "output_type": "stream",
          "name": "stdout",
          "text": [
            "X_train Shape: (50000, 32, 32, 3)\n",
            "X_test Shape: (10000, 32, 32, 3)\n",
            "Y_train Shape: (50000, 1)\n",
            "Y_test Shape: (10000, 1)\n"
          ]
        }
      ],
      "source": [
        "print('X_train Shape: {}'.format(X_train.shape))\n",
        "print('X_test Shape: {}'.format(X_test.shape))\n",
        "print('Y_train Shape: {}'.format(Y_train.shape))\n",
        "print('Y_test Shape: {}'.format(Y_test.shape))"
      ]
    },
    {
      "cell_type": "code",
      "execution_count": null,
      "id": "4e5b0036-e21c-45e4-aa4b-997c803208a0",
      "metadata": {
        "id": "4e5b0036-e21c-45e4-aa4b-997c803208a0",
        "tags": [],
        "colab": {
          "base_uri": "https://localhost:8080/",
          "height": 448
        },
        "outputId": "4fbe194a-79d4-49fc-953e-67b6220b3c01"
      },
      "outputs": [
        {
          "output_type": "execute_result",
          "data": {
            "text/plain": [
              "<matplotlib.colorbar.Colorbar at 0x789d1c6df730>"
            ]
          },
          "metadata": {},
          "execution_count": 14
        },
        {
          "output_type": "display_data",
          "data": {
            "text/plain": [
              "<Figure size 640x480 with 2 Axes>"
            ],
            "image/png": "[encoded data removed]"
          },
          "metadata": {}
        }
      ],
      "source": [
        "plt.figure()\n",
        "plt.imshow(X_train[111])\n",
        "plt.colorbar()"
      ]
    },
    {
      "cell_type": "markdown",
      "id": "f1ec2f85-a73d-4458-870d-fe2f3fc890ad",
      "metadata": {
        "id": "f1ec2f85-a73d-4458-870d-fe2f3fc890ad",
        "tags": []
      },
      "source": [
        "### <h3 style=\"background-color:#0071c5;color:white;text-align: center;padding-top: 5px;padding-bottom: 5px;border-radius: 15px 50px;\"><strong><centre>Normalizing and One-Hot Encoding 🗝</centre></strong></h3>"
      ]
    },
    {
      "cell_type": "markdown",
      "id": "1de0ad03-dc3f-4bbb-af88-62fc5b96850a",
      "metadata": {
        "id": "1de0ad03-dc3f-4bbb-af88-62fc5b96850a"
      },
      "source": [
        "To lower the pixel values, we must first normalise the data. All of the image pixels are currently in the range of 0–255, and we want them to be in the range of 0 and 1. So we can either divide all the pixel values by 255.0 or use the ‘normalize’ command from keras library. As CIFAR-10 has 10 classes, we are using the ‘to_categorical()’ method to one-hot encode the data."
      ]
    },
    {
      "cell_type": "code",
      "execution_count": null,
      "id": "f2b358cb-2763-455b-93cb-bed9ed32f06d",
      "metadata": {
        "id": "f2b358cb-2763-455b-93cb-bed9ed32f06d",
        "tags": [],
        "colab": {
          "base_uri": "https://localhost:8080/"
        },
        "outputId": "4f64fdca-561c-4818-c901-0d7e1924cd13"
      },
      "outputs": [
        {
          "output_type": "stream",
          "name": "stdout",
          "text": [
            "[0. 0. 0. 1. 0. 0. 0. 0. 0. 0.]\n"
          ]
        }
      ],
      "source": [
        "# Normalizing\n",
        "X_train_en = X_train/255\n",
        "X_test_en = X_test/255.0\n",
        "\n",
        "# One-Hot-Encoding\n",
        "Y_train_en = to_categorical(Y_train,10)\n",
        "Y_test_en = to_categorical(Y_test,10)\n",
        "\n",
        "print(Y_test_en[0])"
      ]
    },
    {
      "cell_type": "markdown",
      "id": "ef0f1c1f-d8a1-4578-8659-636f82fe3758",
      "metadata": {
        "id": "ef0f1c1f-d8a1-4578-8659-636f82fe3758"
      },
      "source": [
        "### Some basic layers\n",
        "\n",
        "1. Conv2D() -> Layer that performs 2D convolutions\n",
        "2. MaxPooling2D() -> Performs max pooling operation, using the filter we provide\n",
        "3. Flatten() -> Used to perform flattening before we pass to FC layers\n",
        "4. Dense() -> The FC layers\n",
        "5. Dropout() -> Adds dropout to a layer.\n",
        "\n",
        "### Some basic functions.\n",
        "1. Sequential() -> Used to initialize a Neural network architecture to which different layers can be added.\n",
        "2. summary() -> Provides a brief display of CNN architecture\n",
        "3. compile() -> Compile defines the loss function, the optimizer and the metrics.\n",
        "4. fit() -> Trains the model using the CNN architecture and training data.\n",
        "5. evaluate() -> Performs evaluation on test data."
      ]
    },
    {
      "cell_type": "markdown",
      "id": "43d0bcc9-bf62-41c3-ba5e-1e41c071b825",
      "metadata": {
        "id": "43d0bcc9-bf62-41c3-ba5e-1e41c071b825"
      },
      "source": [
        "### <h3 style=\"background-color:#0071c5;color:white;text-align: center;padding-top: 5px;padding-bottom: 5px;border-radius: 15px 50px;\"><strong><centre>🔨 Building Base Model 🔧</centre></strong></h3>"
      ]
    },
    {
      "cell_type": "markdown",
      "id": "4481f441-fe8f-4178-9528-196f20c40ab9",
      "metadata": {
        "id": "4481f441-fe8f-4178-9528-196f20c40ab9"
      },
      "source": [
        "We are going to build a base model using CNN architecture\n",
        "\n",
        "As you have learned, each of our convolutional layers is followed by a pooling layer. Then, we flatten the output of these and pass them to a fully connected network. To build this model, we will use .add of the model to add our convolutional, pooling, flatten, and fully connected layers to it. Complete the following and make sure your model summary is the same in the next section to verify you built the model correctly.\n",
        "\n",
        "\n",
        "\n",
        "1.   Add a Convolutional layer to the model with 32 filters size 4x4. The input shape should be (32,32,3), and the activation function should be relu. Use the <a href=\"https://www.tensorflow.org/api_docs/python/tf/keras/layers/Conv2D\">Conv2D object from keras</a>.\n",
        "2.   Add a Max-Pooling layer with a pooling size/window of 2x2. Use <a href=\"https://keras.io/api/layers/pooling_layers/max_pooling2d/\">MaxPooling2D from keras</a>.\n",
        "3.   Repeat the previous 2 steps by adding another convolutional layer and pooling layer\n",
        "4.   Add a simple flatten layer. Use <a href=\"https://keras.io/api/layers/reshaping_layers/flatten/\">Flatten from keras</a>.\n",
        "5.   Add a Fully connected layer, also called a dense layer, with 128 nodes and a 'relu' activation function. Use <a href=\"https://keras.io/api/layers/core_layers/dense/\">Dense from keras</a>.\n",
        "\n",
        "\n",
        "For now use the default values for all other hyperparameters, so you don't need to set any parameters not listed above.\n",
        "\n",
        "The final layer is added for you which is a softmax layer. This outputs a series of 10 probabilities which must add up to one. We chose 10 because we have 10 possible classes to choose from in our dataset, airplane, cat, etc. So our model now outputs a vector of probabilities, each element being the probability of each of the classes being the correct one."
      ]
    },
    {
      "cell_type": "code",
      "execution_count": null,
      "id": "78406762-6ba1-4656-8c20-02b9661118d5",
      "metadata": {
        "id": "78406762-6ba1-4656-8c20-02b9661118d5",
        "tags": []
      },
      "outputs": [],
      "source": [
        "# Base Model\n",
        "Base_Model = Sequential()\n",
        "\n",
        "# Covolutional layers with 32 filters of size 4x4\n",
        "Base_Model.add(Conv2D(filters=32, kernel_size=(4,4), input_shape=(32,32,3), activation='relu'))\n",
        "Base_Model.add(MaxPooling2D(pool_size=(2,2)))\n",
        "Base_Model.add(Conv2D(filters=32, kernel_size=(4,4), activation='relu'))\n",
        "Base_Model.add(MaxPooling2D(pool_size=(2,2)))\n",
        "\n",
        "#Flatten layer\n",
        "Base_Model.add(Flatten())\n",
        "\n",
        "#Fully Connected layers\n",
        "Base_Model.add(Dense(128, activation='relu'))\n",
        "\n",
        "# Final Softmax layer of FC network\n",
        "Base_Model.add(Dense(10, activation ='softmax'))\n"
      ]
    },
    {
      "cell_type": "markdown",
      "id": "VEYrBiYznHsW",
      "metadata": {
        "id": "VEYrBiYznHsW"
      },
      "source": [
        "#### Final Layer and Compile"
      ]
    },
    {
      "cell_type": "markdown",
      "id": "eWRt4Ww2pxhL",
      "metadata": {
        "id": "eWRt4Ww2pxhL"
      },
      "source": [
        "\n",
        "\n",
        "We must compile our model to complete the build of it with the loss function we want to use, the optimizer, and any additional metrics we want to display in the report.\n",
        "\n",
        "You can look up categorical_crossentropy and the adam optimizer to learn more about them."
      ]
    },
    {
      "cell_type": "code",
      "execution_count": null,
      "id": "ni6xrHtynDWv",
      "metadata": {
        "id": "ni6xrHtynDWv"
      },
      "outputs": [],
      "source": [
        "Base_Model.compile(loss ='categorical_crossentropy', optimizer ='adam', metrics =['accuracy'])"
      ]
    },
    {
      "cell_type": "markdown",
      "id": "m24WiEHimLqp",
      "metadata": {
        "id": "m24WiEHimLqp"
      },
      "source": [
        "### Model Summary\n",
        "\n",
        "<img src=\"https://drive.google.com/uc?export=view&id=11o1r5EWhGtvrrm3180zBFbvZ467NJUA0\" alt=\"summ\" />\n",
        "\n",
        "The following function, summary(), of Keras' **Sequential** library object reports the full model that you have built. You should get something nearly identical to the above. Make sure you build your model correctly before continuing.\n",
        "\n",
        "\n"
      ]
    },
    {
      "cell_type": "code",
      "execution_count": null,
      "id": "afd2bf38-2af1-4a3d-bed0-3b6615763118",
      "metadata": {
        "_kg_hide-output": true,
        "id": "afd2bf38-2af1-4a3d-bed0-3b6615763118",
        "tags": [],
        "colab": {
          "base_uri": "https://localhost:8080/"
        },
        "outputId": "105df018-67c3-4502-d41a-abdf6f33215e"
      },
      "outputs": [
        {
          "output_type": "stream",
          "name": "stdout",
          "text": [
            "Model: \"sequential\"\n",
            "_________________________________________________________________\n",
            " Layer (type)                Output Shape              Param #   \n",
            "=================================================================\n",
            " conv2d (Conv2D)             (None, 29, 29, 32)        1568      \n",
            "                                                                 \n",
            " max_pooling2d (MaxPooling2  (None, 14, 14, 32)        0         \n",
            " D)                                                              \n",
            "                                                                 \n",
            " conv2d_1 (Conv2D)           (None, 11, 11, 32)        16416     \n",
            "                                                                 \n",
            " max_pooling2d_1 (MaxPoolin  (None, 5, 5, 32)          0         \n",
            " g2D)                                                            \n",
            "                                                                 \n",
            " flatten (Flatten)           (None, 800)               0         \n",
            "                                                                 \n",
            " dense (Dense)               (None, 128)               102528    \n",
            "                                                                 \n",
            " dense_1 (Dense)             (None, 10)                1290      \n",
            "                                                                 \n",
            "=================================================================\n",
            "Total params: 121802 (475.79 KB)\n",
            "Trainable params: 121802 (475.79 KB)\n",
            "Non-trainable params: 0 (0.00 Byte)\n",
            "_________________________________________________________________\n"
          ]
        }
      ],
      "source": [
        "Base_Model.summary()"
      ]
    },
    {
      "cell_type": "markdown",
      "id": "IMmVCIzMovSb",
      "metadata": {
        "id": "IMmVCIzMovSb"
      },
      "source": [
        "### Train Model\n",
        "\n",
        "Now, we will train the model we have created on our normalized training data. verbose = 1 here means we want to see the training report printed as it is training.\n",
        "\n",
        "**Epoch** = Current overall training iteration (1 Epoch = 1 pass of all data)<br>\n",
        "**loss** = measure of error on training data, we want it to go down<br>\n",
        "**accuracy** = accuracy on training data<br>\n",
        "**val_loss** = loss on validation data (not used for training)<br>\n",
        "**val_accuracy** = validation data accuracy"
      ]
    },
    {
      "cell_type": "code",
      "execution_count": null,
      "id": "f4c08202-6822-42b9-81e5-f289ad3c12a4",
      "metadata": {
        "id": "f4c08202-6822-42b9-81e5-f289ad3c12a4",
        "colab": {
          "base_uri": "https://localhost:8080/"
        },
        "outputId": "edf8638f-73f8-4e40-dbb8-bb46c1d0bcda"
      },
      "outputs": [
        {
          "output_type": "stream",
          "name": "stdout",
          "text": [
            "Epoch 1/10\n",
            "1563/1563 [==============================] - 7s 4ms/step - loss: 1.7534 - accuracy: 0.3547 - val_loss: 1.4514 - val_accuracy: 0.4658\n",
            "Epoch 2/10\n",
            "1563/1563 [==============================] - 6s 4ms/step - loss: 1.3765 - accuracy: 0.5010 - val_loss: 1.2791 - val_accuracy: 0.5399\n",
            "Epoch 3/10\n",
            "1563/1563 [==============================] - 6s 4ms/step - loss: 1.2196 - accuracy: 0.5655 - val_loss: 1.2090 - val_accuracy: 0.5738\n",
            "Epoch 4/10\n",
            "1563/1563 [==============================] - 6s 4ms/step - loss: 1.1208 - accuracy: 0.6013 - val_loss: 1.1030 - val_accuracy: 0.6092\n",
            "Epoch 5/10\n",
            "1563/1563 [==============================] - 6s 4ms/step - loss: 1.0422 - accuracy: 0.6309 - val_loss: 1.0456 - val_accuracy: 0.6325\n",
            "Epoch 6/10\n",
            "1563/1563 [==============================] - 6s 4ms/step - loss: 0.9656 - accuracy: 0.6614 - val_loss: 1.0776 - val_accuracy: 0.6250\n",
            "Epoch 7/10\n",
            "1563/1563 [==============================] - 6s 4ms/step - loss: 0.9104 - accuracy: 0.6784 - val_loss: 1.0359 - val_accuracy: 0.6395\n",
            "Epoch 8/10\n",
            "1563/1563 [==============================] - 6s 4ms/step - loss: 0.8600 - accuracy: 0.6965 - val_loss: 1.0577 - val_accuracy: 0.6341\n",
            "Epoch 9/10\n",
            "1563/1563 [==============================] - 6s 4ms/step - loss: 0.8243 - accuracy: 0.7099 - val_loss: 1.0178 - val_accuracy: 0.6550\n",
            "Epoch 10/10\n",
            "1563/1563 [==============================] - 6s 4ms/step - loss: 0.7813 - accuracy: 0.7263 - val_loss: 1.0003 - val_accuracy: 0.6538\n"
          ]
        }
      ],
      "source": [
        "historyBase = Base_Model.fit(X_train_en, Y_train_en, epochs = 10, verbose=1,validation_data=(X_test_en,Y_test_en))"
      ]
    },
    {
      "cell_type": "markdown",
      "id": "8JP97hQBoSIU",
      "metadata": {
        "id": "8JP97hQBoSIU"
      },
      "source": [
        "### Evaluate Model\n",
        "\n",
        "Now that our model is trained, we can evaluate it and get the accuracy on the test set. You should get aound ~.63 Test Accuracy = 63% correct answers. Out of 10 possible choices that is not bad."
      ]
    },
    {
      "cell_type": "code",
      "execution_count": null,
      "id": "68eb3fbe-0b86-4bf2-9b2a-b1f3eef0b14d",
      "metadata": {
        "id": "68eb3fbe-0b86-4bf2-9b2a-b1f3eef0b14d",
        "tags": [],
        "outputId": "62b24fdf-b2c8-4d17-a8ef-697b2fefbc1c",
        "colab": {
          "base_uri": "https://localhost:8080/"
        }
      },
      "outputs": [
        {
          "output_type": "stream",
          "name": "stdout",
          "text": [
            "313/313 [==============================] - 1s 2ms/step - loss: 1.0003 - accuracy: 0.6538\n",
            "Test Accuracy of Base Model: 0.6538000106811523\n"
          ]
        }
      ],
      "source": [
        "evaluationBase = Base_Model.evaluate(X_test_en, Y_test_en)\n",
        "print('Test Accuracy of Base Model: {}'.format(evaluationBase[1]))"
      ]
    },
    {
      "cell_type": "markdown",
      "id": "G0jdOp8Tn-wz",
      "metadata": {
        "id": "G0jdOp8Tn-wz"
      },
      "source": [
        "### Plot Training Results\n",
        "\n",
        "The following function will create a graph of the training history of our model, with loss and accuracy for our training and validation sets. We normally want to use a seperate validation set but this time due to file size needs we just use the test set as validation."
      ]
    },
    {
      "cell_type": "code",
      "execution_count": null,
      "id": "0f6fd0cd-17db-4d28-ab23-e18a64d5e984",
      "metadata": {
        "id": "0f6fd0cd-17db-4d28-ab23-e18a64d5e984",
        "tags": [],
        "outputId": "c3d6c60a-69d4-4394-c41a-d8a2c6021c3d",
        "colab": {
          "base_uri": "https://localhost:8080/",
          "height": 449
        }
      },
      "outputs": [
        {
          "output_type": "display_data",
          "data": {
            "text/plain": [
              "<Figure size 640x480 with 1 Axes>"
            ],
            "image/png": "[encoded data removed]"
          },
          "metadata": {}
        }
      ],
      "source": [
        "def plotloss(data):\n",
        "    plt.plot(data.history['loss'])\n",
        "    plt.plot(data.history['val_loss'])\n",
        "    plt.plot(data.history['accuracy'])\n",
        "    plt.xlabel('Epochs')\n",
        "    plt.ylabel('Loss')\n",
        "    plt.legend(['Train', 'Validation', 'Accuracy'])\n",
        "    plt.show()\n",
        "plotloss(historyBase)"
      ]
    },
    {
      "cell_type": "markdown",
      "id": "582506dc-88ae-4fc8-b150-0af902661782",
      "metadata": {
        "id": "582506dc-88ae-4fc8-b150-0af902661782"
      },
      "source": [
        "## Improvement\n",
        "\n",
        "Now that we have built a basic CNN, improvements are made to greatly increase the performance of the model. Batch normalization was ubiquitously incorporated post every convolutional layer. This strategy was aimed at catalyzing the learning velocity while concurrently instilling stability within the network's architecture. It employs the 'he_uniform' kernel initializer which assists in preventing the problem of vanishing or exploding gradients by setting appropriate initial kernel weights. Dropout was introduced and slowly increased as the network deepens. The number of convolutional layers was significantly increased as well as filter count and number of neurons in the dense layers."
      ]
    },
    {
      "cell_type": "code",
      "source": [
        "model_5 = Sequential()\n",
        "model_5.add(Conv2D(32, (3, 3), activation='relu', kernel_initializer='he_uniform', padding='same', input_shape=(32, 32, 3)))\n",
        "model_5.add(BatchNormalization())\n",
        "model_5.add(Conv2D(32, (3, 3), activation='relu', kernel_initializer='he_uniform', padding='same'))\n",
        "model_5.add(BatchNormalization())\n",
        "model_5.add(MaxPooling2D(pool_size=(2,2)))\n",
        "model_5.add(Dropout(0.2))\n",
        "model_5.add(Conv2D(64, (3, 3), activation='relu', kernel_initializer='he_uniform', padding='same'))\n",
        "model_5.add(BatchNormalization())\n",
        "model_5.add(Conv2D(64, (3, 3), activation='relu', kernel_initializer='he_uniform', padding='same'))\n",
        "model_5.add(BatchNormalization())\n",
        "model_5.add(MaxPooling2D(pool_size=(2,2)))\n",
        "model_5.add(Dropout(0.3))\n",
        "model_5.add(Conv2D(128, (3, 3), activation='relu', kernel_initializer='he_uniform', padding='same'))\n",
        "model_5.add(BatchNormalization())\n",
        "model_5.add(Conv2D(128, (3, 3), activation='relu', kernel_initializer='he_uniform', padding='same'))\n",
        "model_5.add(BatchNormalization())\n",
        "model_5.add(MaxPooling2D(pool_size=(2,2)))\n",
        "model_5.add(Dropout(0.4))\n",
        "model_5.add(Flatten())\n",
        "model_5.add(Dense(128, activation='relu', kernel_initializer='he_uniform'))\n",
        "model_5.add(BatchNormalization())\n",
        "model_5.add(Dropout(0.5))\n",
        "model_5.add(Dense(10, activation='softmax'))\n",
        "\n",
        "model_5.compile(optimizer='adam', loss='categorical_crossentropy', metrics=['accuracy'])\n",
        "\n",
        "model_5.summary()"
      ],
      "metadata": {
        "colab": {
          "base_uri": "https://localhost:8080/"
        },
        "id": "BdNupry-L1f0",
        "outputId": "d3261ab3-2c85-4f70-b810-00e570bbb05a"
      },
      "id": "BdNupry-L1f0",
      "execution_count": null,
      "outputs": [
        {
          "output_type": "stream",
          "name": "stdout",
          "text": [
            "Model: \"sequential_7\"\n",
            "_________________________________________________________________\n",
            " Layer (type)                Output Shape              Param #   \n",
            "=================================================================\n",
            " conv2d_24 (Conv2D)          (None, 32, 32, 32)        896       \n",
            "                                                                 \n",
            " batch_normalization (Batch  (None, 32, 32, 32)        128       \n",
            " Normalization)                                                  \n",
            "                                                                 \n",
            " conv2d_25 (Conv2D)          (None, 32, 32, 32)        9248      \n",
            "                                                                 \n",
            " batch_normalization_1 (Bat  (None, 32, 32, 32)        128       \n",
            " chNormalization)                                                \n",
            "                                                                 \n",
            " max_pooling2d_16 (MaxPooli  (None, 16, 16, 32)        0         \n",
            " ng2D)                                                           \n",
            "                                                                 \n",
            " dropout_14 (Dropout)        (None, 16, 16, 32)        0         \n",
            "                                                                 \n",
            " conv2d_26 (Conv2D)          (None, 16, 16, 64)        18496     \n",
            "                                                                 \n",
            " batch_normalization_2 (Bat  (None, 16, 16, 64)        256       \n",
            " chNormalization)                                                \n",
            "                                                                 \n",
            " conv2d_27 (Conv2D)          (None, 16, 16, 64)        36928     \n",
            "                                                                 \n",
            " batch_normalization_3 (Bat  (None, 16, 16, 64)        256       \n",
            " chNormalization)                                                \n",
            "                                                                 \n",
            " max_pooling2d_17 (MaxPooli  (None, 8, 8, 64)          0         \n",
            " ng2D)                                                           \n",
            "                                                                 \n",
            " dropout_15 (Dropout)        (None, 8, 8, 64)          0         \n",
            "                                                                 \n",
            " conv2d_28 (Conv2D)          (None, 8, 8, 128)         73856     \n",
            "                                                                 \n",
            " batch_normalization_4 (Bat  (None, 8, 8, 128)         512       \n",
            " chNormalization)                                                \n",
            "                                                                 \n",
            " conv2d_29 (Conv2D)          (None, 8, 8, 128)         147584    \n",
            "                                                                 \n",
            " batch_normalization_5 (Bat  (None, 8, 8, 128)         512       \n",
            " chNormalization)                                                \n",
            "                                                                 \n",
            " max_pooling2d_18 (MaxPooli  (None, 4, 4, 128)         0         \n",
            " ng2D)                                                           \n",
            "                                                                 \n",
            " dropout_16 (Dropout)        (None, 4, 4, 128)         0         \n",
            "                                                                 \n",
            " flatten_7 (Flatten)         (None, 2048)              0         \n",
            "                                                                 \n",
            " dense_15 (Dense)            (None, 128)               262272    \n",
            "                                                                 \n",
            " batch_normalization_6 (Bat  (None, 128)               512       \n",
            " chNormalization)                                                \n",
            "                                                                 \n",
            " dropout_17 (Dropout)        (None, 128)               0         \n",
            "                                                                 \n",
            " dense_16 (Dense)            (None, 10)                1290      \n",
            "                                                                 \n",
            "=================================================================\n",
            "Total params: 552874 (2.11 MB)\n",
            "Trainable params: 551722 (2.10 MB)\n",
            "Non-trainable params: 1152 (4.50 KB)\n",
            "_________________________________________________________________\n"
          ]
        }
      ]
    },
    {
      "cell_type": "code",
      "source": [
        "history_5 = model_5.fit(X_train_en, Y_train_en, epochs = 20, verbose = 1, validation_data = (X_test_en, Y_test_en))"
      ],
      "metadata": {
        "colab": {
          "base_uri": "https://localhost:8080/"
        },
        "id": "gG0zKEnCYH0y",
        "outputId": "0d1c2570-b4cf-4168-cb67-8d3306c498b8"
      },
      "id": "gG0zKEnCYH0y",
      "execution_count": null,
      "outputs": [
        {
          "output_type": "stream",
          "name": "stdout",
          "text": [
            "Epoch 1/20\n",
            "1563/1563 [==============================] - 18s 8ms/step - loss: 1.5948 - accuracy: 0.4462 - val_loss: 1.1130 - val_accuracy: 0.6084\n",
            "Epoch 2/20\n",
            "1563/1563 [==============================] - 13s 8ms/step - loss: 1.0732 - accuracy: 0.6197 - val_loss: 0.9529 - val_accuracy: 0.6613\n",
            "Epoch 3/20\n",
            "1563/1563 [==============================] - 12s 8ms/step - loss: 0.9044 - accuracy: 0.6846 - val_loss: 0.8107 - val_accuracy: 0.7255\n",
            "Epoch 4/20\n",
            "1563/1563 [==============================] - 12s 8ms/step - loss: 0.7983 - accuracy: 0.7229 - val_loss: 0.7375 - val_accuracy: 0.7458\n",
            "Epoch 5/20\n",
            "1563/1563 [==============================] - 12s 8ms/step - loss: 0.7181 - accuracy: 0.7545 - val_loss: 0.7089 - val_accuracy: 0.7577\n",
            "Epoch 6/20\n",
            "1563/1563 [==============================] - 12s 8ms/step - loss: 0.6555 - accuracy: 0.7769 - val_loss: 0.5790 - val_accuracy: 0.8020\n",
            "Epoch 7/20\n",
            "1563/1563 [==============================] - 13s 8ms/step - loss: 0.6161 - accuracy: 0.7899 - val_loss: 0.6151 - val_accuracy: 0.7927\n",
            "Epoch 8/20\n",
            "1563/1563 [==============================] - 12s 8ms/step - loss: 0.5744 - accuracy: 0.8036 - val_loss: 0.5686 - val_accuracy: 0.8079\n",
            "Epoch 9/20\n",
            "1563/1563 [==============================] - 12s 8ms/step - loss: 0.5421 - accuracy: 0.8149 - val_loss: 0.5448 - val_accuracy: 0.8185\n",
            "Epoch 10/20\n",
            "1563/1563 [==============================] - 12s 8ms/step - loss: 0.5242 - accuracy: 0.8214 - val_loss: 0.5427 - val_accuracy: 0.8164\n",
            "Epoch 11/20\n",
            "1563/1563 [==============================] - 12s 8ms/step - loss: 0.4897 - accuracy: 0.8343 - val_loss: 0.5001 - val_accuracy: 0.8280\n",
            "Epoch 12/20\n",
            "1563/1563 [==============================] - 12s 8ms/step - loss: 0.4696 - accuracy: 0.8406 - val_loss: 0.4836 - val_accuracy: 0.8375\n",
            "Epoch 13/20\n",
            "1563/1563 [==============================] - 12s 8ms/step - loss: 0.4537 - accuracy: 0.8465 - val_loss: 0.4781 - val_accuracy: 0.8357\n",
            "Epoch 14/20\n",
            "1563/1563 [==============================] - 12s 8ms/step - loss: 0.4393 - accuracy: 0.8504 - val_loss: 0.4943 - val_accuracy: 0.8329\n",
            "Epoch 15/20\n",
            "1563/1563 [==============================] - 12s 8ms/step - loss: 0.4233 - accuracy: 0.8565 - val_loss: 0.4745 - val_accuracy: 0.8426\n",
            "Epoch 16/20\n",
            "1563/1563 [==============================] - 12s 8ms/step - loss: 0.4124 - accuracy: 0.8582 - val_loss: 0.4630 - val_accuracy: 0.8457\n",
            "Epoch 17/20\n",
            "1563/1563 [==============================] - 12s 8ms/step - loss: 0.3985 - accuracy: 0.8634 - val_loss: 0.4757 - val_accuracy: 0.8434\n",
            "Epoch 18/20\n",
            "1563/1563 [==============================] - 12s 8ms/step - loss: 0.3825 - accuracy: 0.8694 - val_loss: 0.4656 - val_accuracy: 0.8468\n",
            "Epoch 19/20\n",
            "1563/1563 [==============================] - 12s 8ms/step - loss: 0.3671 - accuracy: 0.8738 - val_loss: 0.4646 - val_accuracy: 0.8485\n",
            "Epoch 20/20\n",
            "1563/1563 [==============================] - 12s 8ms/step - loss: 0.3653 - accuracy: 0.8755 - val_loss: 0.4591 - val_accuracy: 0.8525\n"
          ]
        }
      ]
    },
    {
      "cell_type": "code",
      "source": [
        "evaluation = model_5.evaluate(X_test_en, Y_test_en)\n",
        "print('Test Accuracy: {}'.format(evaluation[1]))"
      ],
      "metadata": {
        "colab": {
          "base_uri": "https://localhost:8080/"
        },
        "id": "fnUNvG5pM6FN",
        "outputId": "ac30e732-8ae4-4388-b1c8-7ea2904200e2"
      },
      "id": "fnUNvG5pM6FN",
      "execution_count": null,
      "outputs": [
        {
          "output_type": "stream",
          "name": "stdout",
          "text": [
            "313/313 [==============================] - 1s 3ms/step - loss: 0.4591 - accuracy: 0.8525\n",
            "Test Accuracy: 0.8525000214576721\n"
          ]
        }
      ]
    },
    {
      "cell_type": "code",
      "source": [
        "pd.DataFrame(history_5.history).plot()"
      ],
      "metadata": {
        "colab": {
          "base_uri": "https://localhost:8080/",
          "height": 448
        },
        "id": "RFLvD6RNM4g1",
        "outputId": "9c0a80f4-1f43-4b43-8259-ce5fed88fc2f"
      },
      "id": "RFLvD6RNM4g1",
      "execution_count": null,
      "outputs": [
        {
          "output_type": "execute_result",
          "data": {
            "text/plain": [
              "<Axes: >"
            ]
          },
          "metadata": {},
          "execution_count": 42
        },
        {
          "output_type": "display_data",
          "data": {
            "text/plain": [
              "<Figure size 640x480 with 1 Axes>"
            ],
            "image/png": "[encoded data removed]"
          },
          "metadata": {}
        }
      ]
    }
  ],
  "metadata": {
    "colab": {
      "provenance": [],
      "machine_shape": "hm",
      "gpuType": "T4"
    },
    "kernelspec": {
      "display_name": "Python 3",
      "name": "python3"
    },
    "language_info": {
      "codemirror_mode": {
        "name": "ipython",
        "version": 3
      },
      "file_extension": ".py",
      "mimetype": "text/x-python",
      "name": "python",
      "nbconvert_exporter": "python",
      "pygments_lexer": "ipython3",
      "version": "3.9.6"
    },
    "accelerator": "GPU"
  },
  "nbformat": 4,
  "nbformat_minor": 5
}